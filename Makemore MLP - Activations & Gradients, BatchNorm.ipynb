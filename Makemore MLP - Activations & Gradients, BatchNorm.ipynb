{
 "cells": [
  {
   "cell_type": "code",
   "execution_count": 1,
   "metadata": {},
   "outputs": [],
   "source": [
    "import torch\n",
    "import torch.nn.functional as F \n",
    "import matplotlib.pyplot as plt # For making figures\n",
    "%matplotlib inline"
   ]
  },
  {
   "cell_type": "code",
   "execution_count": 4,
   "metadata": {},
   "outputs": [
    {
     "data": {
      "text/plain": [
       "['emma', 'olivia', 'ava', 'isabella', 'sophia', 'charlotte', 'mia', 'amelia']"
      ]
     },
     "execution_count": 4,
     "metadata": {},
     "output_type": "execute_result"
    }
   ],
   "source": [
    "# read in all the words\n",
    "words = open('names.txt','r').read().splitlines()\n",
    "words[:8]"
   ]
  },
  {
   "cell_type": "code",
   "execution_count": 5,
   "metadata": {},
   "outputs": [
    {
     "data": {
      "text/plain": [
       "32033"
      ]
     },
     "execution_count": 5,
     "metadata": {},
     "output_type": "execute_result"
    }
   ],
   "source": [
    "len(words)"
   ]
  },
  {
   "cell_type": "code",
   "execution_count": 7,
   "metadata": {},
   "outputs": [
    {
     "name": "stdout",
     "output_type": "stream",
     "text": [
      "{1: 'a', 2: 'b', 3: 'c', 4: 'd', 5: 'e', 6: 'f', 7: 'g', 8: 'h', 9: 'i', 10: 'j', 11: 'k', 12: 'l', 13: 'm', 14: 'n', 15: 'o', 16: 'p', 17: 'q', 18: 'r', 19: 's', 20: 't', 21: 'u', 22: 'v', 23: 'w', 24: 'x', 25: 'y', 26: 'z', 0: '.'}\n",
      "27\n"
     ]
    }
   ],
   "source": [
    "# Build the vocabulary of characters and mappings to/from integers\n",
    "chars = sorted(list(set(''.join(words))))\n",
    "stoi = {s: i + 1 for i,s in enumerate(chars)}\n",
    "stoi['.'] = 0\n",
    "itos = {i:s for s,i in stoi.items()}\n",
    "vocab_size = len(itos)\n",
    "print(itos)\n",
    "print(vocab_size)"
   ]
  },
  {
   "cell_type": "code",
   "execution_count": 153,
   "metadata": {},
   "outputs": [
    {
     "name": "stdout",
     "output_type": "stream",
     "text": [
      "torch.Size([182580, 3]) torch.Size([182580])\n",
      "torch.Size([22740, 3]) torch.Size([22740])\n",
      "torch.Size([205320, 3]) torch.Size([205320])\n"
     ]
    }
   ],
   "source": [
    "#Build the dataset: Train, Dev, and Test\n",
    "block_size = 3 #context length: How many characters needed to predict the next\n",
    "\n",
    "def build_dataset(words):\n",
    "    X, Y = [], []\n",
    "\n",
    "    for w in words:\n",
    "        context = [0] * block_size\n",
    "        for ch in w + '.':\n",
    "            ix = stoi[ch]\n",
    "            X.append(context)\n",
    "            Y.append(ix)\n",
    "            context = context[1:] + [ix] #crop and append\n",
    "\n",
    "    X = torch.tensor(X)\n",
    "    Y = torch.tensor(Y)\n",
    "    print(X.shape, Y.shape)\n",
    "    return X, Y\n",
    "\n",
    "import random\n",
    "random.seed(42)\n",
    "random.shuffle(words)\n",
    "n1 = int(0.8 * len(words))\n",
    "n2 = int(0.9 * len(words))\n",
    "\n",
    "Xtr, Ytr = build_dataset(words[:n1]) #80%\n",
    "Xdev, Ydev = build_dataset(words[n1:n2]) #10%\n",
    "Xte, Yte = build_dataset(words[:n2]) #Last 10%\n"
   ]
  },
  {
   "cell_type": "code",
   "execution_count": 154,
   "metadata": {},
   "outputs": [
    {
     "data": {
      "text/plain": [
       "30"
      ]
     },
     "execution_count": 154,
     "metadata": {},
     "output_type": "execute_result"
    }
   ],
   "source": [
    "n_embd * block_size"
   ]
  },
  {
   "cell_type": "code",
   "execution_count": 161,
   "metadata": {},
   "outputs": [
    {
     "name": "stdout",
     "output_type": "stream",
     "text": [
      "12097\n"
     ]
    }
   ],
   "source": [
    "#MLP revisited, no more magic numbers for the model\n",
    "n_embd = 10 #The dimensionality of the character embedding vector\n",
    "n_hidden = 200 #The Number of neurons in the hidden layer of the MLP\n",
    "\n",
    "g = torch.Generator().manual_seed(2147483647)\n",
    "C = torch.randn((vocab_size, n_embd), generator=g)\n",
    "W1 = torch.randn((n_embd * block_size, n_hidden), generator=g) * ((5/3) / ((n_embd * block_size) ** 0.5))\n",
    "# Gain / Fan in = 5/3 for Tanh divided by square root of fan in,\n",
    "# which is n_embd * block_size\n",
    "# More from https://pytorch.org/docs/stable/nn.init.html\n",
    "# b1 = torch.randn(n_hidden, generator=g) * 0.01 \n",
    "W2 = torch.randn((n_hidden, vocab_size), generator=g) * 0.01 \n",
    "# Never use a 0 for the weights\n",
    "b2 = torch.randn(vocab_size, generator=g) * 0 \n",
    "\n",
    "bngain = torch.ones((1, n_hidden))\n",
    "bnbias = torch.zeros((1, n_hidden))\n",
    "\n",
    "# Created to track the running values, not for gradient optomization\n",
    "bnmean_running = torch.zeros((1, n_hidden))\n",
    "bnstd_running = torch.ones((1, n_hidden))\n",
    "\n",
    "parameters = [C,W1,W2,b2,bngain,bnbias] #b1,\n",
    "print(sum(p.nelement() for p in parameters)) #number of parameters in total\n",
    "for p in parameters:\n",
    "    p.requires_grad = True\n"
   ]
  },
  {
   "cell_type": "code",
   "execution_count": 162,
   "metadata": {},
   "outputs": [
    {
     "name": "stdout",
     "output_type": "stream",
     "text": [
      "tensor(-0.0029) tensor(1.0013)\n",
      "tensor(-0.0004) tensor(0.9988)\n"
     ]
    },
    {
     "data": {
      "text/plain": [
       "(array([2.21085000e-05, 2.21085000e-05, 2.21085000e-05, 6.63255001e-05,\n",
       "        6.63255001e-05, 1.32651000e-04, 3.09519000e-04, 3.53736000e-04,\n",
       "        8.18014501e-04, 1.74657150e-03, 3.60368550e-03, 5.52712501e-03,\n",
       "        9.24135301e-03, 1.66034835e-02, 2.79672525e-02, 4.61625480e-02,\n",
       "        6.96638836e-02, 1.02428681e-01, 1.45429713e-01, 1.91968106e-01,\n",
       "        2.52125334e-01, 3.05384711e-01, 3.56853299e-01, 3.93929253e-01,\n",
       "        4.12655153e-01, 4.01092407e-01, 3.72749310e-01, 3.27537428e-01,\n",
       "        2.72796782e-01, 2.16287456e-01, 1.57346195e-01, 1.17374027e-01,\n",
       "        7.75124011e-02, 5.42763676e-02, 3.24552780e-02, 2.16000045e-02,\n",
       "        1.19164815e-02, 6.87574351e-03, 4.00163850e-03, 1.92343950e-03,\n",
       "        1.30440150e-03, 8.62231501e-04, 3.53736000e-04, 1.54759500e-04,\n",
       "        1.10542500e-04, 4.42170000e-05, 0.00000000e+00, 0.00000000e+00,\n",
       "        0.00000000e+00, 2.21085000e-05]),\n",
       " array([-5.58225775, -5.35610039, -5.12994303, -4.90378567, -4.67762831,\n",
       "        -4.45147095, -4.22531359, -3.99915623, -3.77299887, -3.54684151,\n",
       "        -3.32068415, -3.09452679, -2.86836943, -2.64221207, -2.41605471,\n",
       "        -2.18989735, -1.96373999, -1.73758263, -1.51142527, -1.28526791,\n",
       "        -1.05911055, -0.83295319, -0.60679583, -0.38063847, -0.15448111,\n",
       "         0.07167625,  0.29783361,  0.52399097,  0.75014833,  0.97630569,\n",
       "         1.20246305,  1.42862041,  1.65477777,  1.88093513,  2.10709249,\n",
       "         2.33324986,  2.55940722,  2.78556458,  3.01172194,  3.2378793 ,\n",
       "         3.46403666,  3.69019402,  3.91635138,  4.14250874,  4.3686661 ,\n",
       "         4.59482346,  4.82098082,  5.04713818,  5.27329554,  5.4994529 ,\n",
       "         5.72561026]),\n",
       " <BarContainer object of 50 artists>)"
      ]
     },
     "execution_count": 162,
     "metadata": {},
     "output_type": "execute_result"
    },
    {
     "data": {
      "image/png": "[encoded data removed]",
      "text/plain": [
       "<Figure size 1440x360 with 2 Axes>"
      ]
     },
     "metadata": {
      "needs_background": "light"
     },
     "output_type": "display_data"
    }
   ],
   "source": [
    "### Example for finding the initial scales for optimizing, \n",
    "# essentially the 0.1 and 0.2 in code above\n",
    "x = torch.randn(1000,30)\n",
    "w = torch.randn(30, 200) / 30 ** 0.5 ##The fan_in, important for initilization\n",
    "# Recall , this is for TanH only, for example Relu is (2/n) ** 0.5\n",
    "#Square root of the connecting dimension, \n",
    "# goal is to get standard deviation of 1\n",
    "y = x @ w\n",
    "print(x.mean(),x.std()) \n",
    "print(y.mean(),y.std())\n",
    "plt.figure(figsize=(20,5))\n",
    "plt.subplot(121)\n",
    "plt.hist(x.view(-1).tolist(),50, density=True)\n",
    "plt.subplot(122)\n",
    "plt.hist(y.view(-1).tolist(),50, density=True)"
   ]
  },
  {
   "cell_type": "code",
   "execution_count": 163,
   "metadata": {},
   "outputs": [
    {
     "name": "stdout",
     "output_type": "stream",
     "text": [
      "      0/ 200000: 3.2963\n",
      "  10000/ 200000: 2.4748\n",
      "  20000/ 200000: 2.1765\n",
      "  30000/ 200000: 2.3747\n",
      "  40000/ 200000: 2.1127\n",
      "  50000/ 200000: 2.0999\n",
      "  60000/ 200000: 2.5533\n",
      "  70000/ 200000: 2.0010\n",
      "  80000/ 200000: 2.3368\n",
      "  90000/ 200000: 2.4073\n",
      " 100000/ 200000: 1.8910\n",
      " 110000/ 200000: 1.8020\n",
      " 120000/ 200000: 1.8877\n",
      " 130000/ 200000: 2.0585\n",
      " 140000/ 200000: 2.6132\n",
      " 150000/ 200000: 1.9823\n",
      " 160000/ 200000: 2.2092\n",
      " 170000/ 200000: 2.1330\n",
      " 180000/ 200000: 2.2296\n",
      " 190000/ 200000: 2.2105\n"
     ]
    }
   ],
   "source": [
    "#Optimization\n",
    "max_steps = 200000\n",
    "batch_size = 32\n",
    "lossi = []\n",
    "\n",
    "for i in range(max_steps):\n",
    "    \n",
    "    #minibatch construct\n",
    "    ix = torch.randint(0, Xtr.shape[0], (batch_size,), generator=g)\n",
    "    Xb, Yb = Xtr[ix], Ytr[ix] #batch X,Y\n",
    "\n",
    "    #Forward pass\n",
    "    emb = C[Xb] #Embed characets into the vectors\n",
    "    embcat = emb.view(emb.shape[0], -1) #Concatenate the vectors        \n",
    "    hpreact = embcat @ W1 #+ b1 # hidden layer pre-activation, \n",
    "    # standardized the gaussian, insight from Paper\n",
    "    # Batch norm layer\n",
    "    #---------------------------------------------------\n",
    "    bnmeani = hpreact.mean(0, keepdim=True)\n",
    "    bnstdi = hpreact.std(0, keepdim=True)\n",
    "    hpreact = bngain * (hpreact - bnmeani) / bnstdi + bnbias\n",
    "\n",
    "    # After we calibrate the batch norm and have trackers\n",
    "    with torch.no_grad():\n",
    "        bnmean_running = 0.999 * bnmean_running + 0.001 * bnmeani\n",
    "        bnstd_running = 0.999 * bnstd_running + 0.001 * bnstdi\n",
    "\n",
    "    # Non-linearity\n",
    "    #---------------------------------------------------\n",
    "    h = torch.tanh(hpreact) # hidden layer\n",
    "    logits = h @ W2 + b2 # output layer\n",
    "    loss = F.cross_entropy(logits, Yb) #loss function\n",
    "\n",
    "    #Backward pass\n",
    "    for p in parameters:\n",
    "        p.grad = None\n",
    "    loss.backward()\n",
    "\n",
    "    #Update\n",
    "    lr = 0.1 if i < 100000 else 0.01 # Steep learning rate decay\n",
    "    for p in parameters:\n",
    "        p.data += -lr * p.grad\n",
    "\n",
    "    #Track Stats\n",
    "    if i % 10000 == 0: #  Print every once in a while\n",
    "        print(f'{i:7d}/{max_steps:7d}: {loss.item():.4f}')\n",
    "    lossi.append(loss.log10().item())\n",
    "\n"
   ]
  },
  {
   "cell_type": "markdown",
   "metadata": {},
   "source": [
    "    #Implement Batch Intilization because two problems\n",
    "    # 1 - Too small TanH does nothing\n",
    "    # 2 - Too large Tanh is saturated, look at image below\n",
    "    # now every Nueron will guassianed, but don't want it to be so \n",
    "    # at every  neuron, only at initialization \n",
    "    # So, we have to Scale And Gain, \n",
    "    # scaling by gain and offsetting by some bias\n"
   ]
  },
  {
   "cell_type": "code",
   "execution_count": 164,
   "metadata": {},
   "outputs": [
    {
     "data": {
      "text/plain": [
       "torch.Size([32, 200])"
      ]
     },
     "execution_count": 164,
     "metadata": {},
     "output_type": "execute_result"
    }
   ],
   "source": [
    "hpreact.shape\n",
    "#32,200 and we want these to roughly gaussian"
   ]
  },
  {
   "cell_type": "code",
   "execution_count": 165,
   "metadata": {},
   "outputs": [
    {
     "data": {
      "text/plain": [
       "torch.Size([1, 200])"
      ]
     },
     "execution_count": 165,
     "metadata": {},
     "output_type": "execute_result"
    }
   ],
   "source": [
    "hpreact.mean(0, keepdim=True).shape\n"
   ]
  },
  {
   "cell_type": "code",
   "execution_count": 166,
   "metadata": {},
   "outputs": [
    {
     "data": {
      "text/plain": [
       "[<matplotlib.lines.Line2D at 0x7fd268066550>]"
      ]
     },
     "execution_count": 166,
     "metadata": {},
     "output_type": "execute_result"
    },
    {
     "data": {
      "image/png": "[encoded data removed]",
      "text/plain": [
       "<Figure size 432x288 with 1 Axes>"
      ]
     },
     "metadata": {
      "needs_background": "light"
     },
     "output_type": "display_data"
    }
   ],
   "source": [
    "plt.plot(lossi)\n",
    "# no longer had hocket stick look, weights have been shrunk down \n",
    "# so we can see if the loss is on the right path"
   ]
  },
  {
   "cell_type": "code",
   "execution_count": 167,
   "metadata": {},
   "outputs": [
    {
     "data": {
      "image/png": "[encoded data removed]",
      "text/plain": [
       "<Figure size 432x288 with 1 Axes>"
      ]
     },
     "metadata": {
      "needs_background": "light"
     },
     "output_type": "display_data"
    }
   ],
   "source": [
    "plt.hist(hpreact.view(-1).tolist(),50);\n",
    "#Preactivation range from (-30,30) to (-4,4)\n",
    "# After intilization fix"
   ]
  },
  {
   "cell_type": "code",
   "execution_count": 168,
   "metadata": {},
   "outputs": [
    {
     "data": {
      "image/png": "[encoded data removed]",
      "text/plain": [
       "<Figure size 432x288 with 1 Axes>"
      ]
     },
     "metadata": {
      "needs_background": "light"
     },
     "output_type": "display_data"
    }
   ],
   "source": [
    "plt.hist(h.view(-1).tolist(),50);"
   ]
  },
  {
   "cell_type": "code",
   "execution_count": 169,
   "metadata": {},
   "outputs": [
    {
     "name": "stdout",
     "output_type": "stream",
     "text": [
      "train 2.06378436088562\n",
      "val 2.1197376251220703\n"
     ]
    }
   ],
   "source": [
    "@torch.no_grad() #This decorator disables gradient tracking\n",
    "def split_loss(split):\n",
    "    x,y = {\n",
    "        'train': (Xtr, Ytr),\n",
    "        'val': (Xdev, Ydev),\n",
    "        'test': (Xte, Yte),\n",
    "    }[split]\n",
    "    emb = C[x] # (N, block_size, n_embd)\n",
    "    embcat = emb.view(emb.shape[0], -1) #Concatenate into (N,block_size * n_embd)\n",
    "    hpreact = embcat @ W1 + b1 # hidden layer pre-activation, \n",
    "    # hpreact = bngain * (hpreact - hpreact.mean(0, keepdim=True)) / hpreact.std(0, keepdim=True) + bnbias\n",
    "    # instead of doing it dynamically, as in above, we do using the function from above\n",
    "    bnmeani = hpreact.mean(0, keepdim=True)\n",
    "    bnstdi = hpreact.std(0, keepdim=True)\n",
    "    hpreact = bngain * (hpreact - bnmean_running) / bnstd_running + bnbias\n",
    "    # Advatange is that we can do single examples since means and stds are fixed \n",
    "    # Padding out and adding in entropy(regularizer), like augmenting to reduce overfit\n",
    "\n",
    "\n",
    "    h = torch.tanh(hpreact) # (N, vocab_size)\n",
    "    logits = h @ W2 + b2 # (N, vocab_size)\n",
    "    loss = F.cross_entropy(logits, y)\n",
    "    print(split, loss.item())\n",
    "\n",
    "split_loss('train')\n",
    "split_loss('val')\n",
    "\n",
    "# Improvements to loss after changes baised on notes from below \n",
    "# we had smaller weights and biases for 1st neuron\n",
    "# Reason fro change was tanh layer was too saturated, \n",
    "# shown previously by lot of white space in figure below\n",
    "\n"
   ]
  },
  {
   "cell_type": "raw",
   "metadata": {},
   "source": [
    "# Results before Batch Optimization\n",
    "train 2.020562171936035\n",
    "val 2.105647087097168\n",
    "# After\n",
    "train 2.046449661254883\n",
    "val 2.105436086654663\n",
    "# Results After we calibrate Batch Norm\n",
    "train 2.062958240509033\n",
    "val 2.117814302444458\n"
   ]
  },
  {
   "cell_type": "code",
   "execution_count": 170,
   "metadata": {},
   "outputs": [
    {
     "data": {
      "text/plain": [
       "<matplotlib.image.AxesImage at 0x7fd268017310>"
      ]
     },
     "execution_count": 170,
     "metadata": {},
     "output_type": "execute_result"
    },
    {
     "data": {
      "image/png": "[encoded data removed]",
      "text/plain": [
       "<Figure size 1440x720 with 1 Axes>"
      ]
     },
     "metadata": {
      "needs_background": "light"
     },
     "output_type": "display_data"
    }
   ],
   "source": [
    "plt.figure(figsize=(20,10))\n",
    "plt.imshow(h.abs() > 0.99, cmap='gray',interpolation='nearest') #Boolean tensor\n",
    "#Shows how often in a flat region, \n",
    "# white if true and black if not\n",
    "# from 30 examples with 200 neurons\n",
    "\n",
    "#Lot of white space in first run, so the tanh function was very active\n",
    "# if mainly black spots, dead neuron\n",
    "\n",
    "# Same methodoloy for other activation function like\n",
    "# 1 - Sigmoid\n",
    "# 2 - Tanh\n",
    "# 3 - ReLU\n",
    "# 4 - Leaky ReLU\n",
    "# 5 - Maxout\n",
    "# 6 - ELU\n",
    "\n",
    "# Conclusion, not optimal and need to fix initialization because \n",
    "# there are too many extermes in the data, as shown by 2 graphs above\n",
    "\n",
    "# Initlization fixed , less white "
   ]
  },
  {
   "cell_type": "code",
   "execution_count": null,
   "metadata": {},
   "outputs": [],
   "source": [
    "\n"
   ]
  }
 ],
 "metadata": {
  "kernelspec": {
   "display_name": "Python 3.9.12 ('base')",
   "language": "python",
   "name": "python3"
  },
  "language_info": {
   "codemirror_mode": {
    "name": "ipython",
    "version": 3
   },
   "file_extension": ".py",
   "mimetype": "text/x-python",
   "name": "python",
   "nbconvert_exporter": "python",
   "pygments_lexer": "ipython3",
   "version": "3.9.12"
  },
  "orig_nbformat": 4,
  "vscode": {
   "interpreter": {
    "hash": "bece0eb1fc0b6cc6c86bdf947b1b52af14eb8ddab5100f6d9dacc268b49a9540"
   }
  }
 },
 "nbformat": 4,
 "nbformat_minor": 2
}
