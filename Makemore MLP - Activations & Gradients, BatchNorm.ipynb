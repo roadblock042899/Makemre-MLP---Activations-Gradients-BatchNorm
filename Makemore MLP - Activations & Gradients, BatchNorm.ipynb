{
 "cells": [
  {
   "cell_type": "code",
   "execution_count": 1,
   "metadata": {},
   "outputs": [],
   "source": [
    "import torch\n",
    "import torch.nn.functional as F \n",
    "import matplotlib.pyplot as plt # For making figures\n",
    "%matplotlib inline"
   ]
  },
  {
   "cell_type": "code",
   "execution_count": 4,
   "metadata": {},
   "outputs": [
    {
     "data": {
      "text/plain": [
       "['emma', 'olivia', 'ava', 'isabella', 'sophia', 'charlotte', 'mia', 'amelia']"
      ]
     },
     "execution_count": 4,
     "metadata": {},
     "output_type": "execute_result"
    }
   ],
   "source": [
    "# read in all the words\n",
    "words = open('names.txt','r').read().splitlines()\n",
    "words[:8]"
   ]
  },
  {
   "cell_type": "code",
   "execution_count": 5,
   "metadata": {},
   "outputs": [
    {
     "data": {
      "text/plain": [
       "32033"
      ]
     },
     "execution_count": 5,
     "metadata": {},
     "output_type": "execute_result"
    }
   ],
   "source": [
    "len(words)"
   ]
  },
  {
   "cell_type": "code",
   "execution_count": 7,
   "metadata": {},
   "outputs": [
    {
     "name": "stdout",
     "output_type": "stream",
     "text": [
      "{1: 'a', 2: 'b', 3: 'c', 4: 'd', 5: 'e', 6: 'f', 7: 'g', 8: 'h', 9: 'i', 10: 'j', 11: 'k', 12: 'l', 13: 'm', 14: 'n', 15: 'o', 16: 'p', 17: 'q', 18: 'r', 19: 's', 20: 't', 21: 'u', 22: 'v', 23: 'w', 24: 'x', 25: 'y', 26: 'z', 0: '.'}\n",
      "27\n"
     ]
    }
   ],
   "source": [
    "# Build the vocabulary of characters and mappings to/from integers\n",
    "chars = sorted(list(set(''.join(words))))\n",
    "stoi = {s: i + 1 for i,s in enumerate(chars)}\n",
    "stoi['.'] = 0\n",
    "itos = {i:s for s,i in stoi.items()}\n",
    "vocab_size = len(itos)\n",
    "print(itos)\n",
    "print(vocab_size)"
   ]
  },
  {
   "cell_type": "code",
   "execution_count": 76,
   "metadata": {},
   "outputs": [
    {
     "name": "stdout",
     "output_type": "stream",
     "text": [
      "torch.Size([182691, 3]) torch.Size([182691])\n",
      "torch.Size([22793, 3]) torch.Size([22793])\n",
      "torch.Size([205484, 3]) torch.Size([205484])\n"
     ]
    }
   ],
   "source": [
    "#Build the dataset: Train, Dev, and Test\n",
    "block_size = 3 #context length: How many characters needed to predict the next\n",
    "\n",
    "def build_dataset(words):\n",
    "    X, Y = [], []\n",
    "\n",
    "    for w in words:\n",
    "        context = [0] * block_size\n",
    "        for ch in w + '.':\n",
    "            ix = stoi[ch]\n",
    "            X.append(context)\n",
    "            Y.append(ix)\n",
    "            context = context[1:] + [ix] #crop and append\n",
    "\n",
    "    X = torch.tensor(X)\n",
    "    Y = torch.tensor(Y)\n",
    "    print(X.shape, Y.shape)\n",
    "    return X, Y\n",
    "\n",
    "import random\n",
    "random.seed(42)\n",
    "random.shuffle(words)\n",
    "n1 = int(0.8 * len(words))\n",
    "n2 = int(0.9 * len(words))\n",
    "\n",
    "Xtr, Ytr = build_dataset(words[:n1]) #80%\n",
    "Xdev, Ydev = build_dataset(words[n1:n2]) #10%\n",
    "Xte, Yte = build_dataset(words[:n2]) #Last 10%\n"
   ]
  },
  {
   "cell_type": "code",
   "execution_count": 77,
   "metadata": {},
   "outputs": [
    {
     "data": {
      "text/plain": [
       "30"
      ]
     },
     "execution_count": 77,
     "metadata": {},
     "output_type": "execute_result"
    }
   ],
   "source": [
    "n_embd * block_size"
   ]
  },
  {
   "cell_type": "code",
   "execution_count": 141,
   "metadata": {},
   "outputs": [
    {
     "name": "stdout",
     "output_type": "stream",
     "text": [
      "12297\n"
     ]
    }
   ],
   "source": [
    "#MLP revisited, no more magic numbers for the model\n",
    "n_embd = 10 #The dimensionality of the character embedding vector\n",
    "n_hidden = 200 #The Number of neurons in the hidden layer of the MLP\n",
    "\n",
    "g = torch.Generator().manual_seed(2147483647)\n",
    "C = torch.randn((vocab_size, n_embd), generator=g)\n",
    "W1 = torch.randn((n_embd * block_size, n_hidden), generator=g) * ((5/3) / ((n_embd * block_size) ** 0.5))\n",
    "# Gain / Fan in = 5/3 for Tanh divided by square root of fan in,\n",
    "# which is n_embd * block_size\n",
    "# More from https://pytorch.org/docs/stable/nn.init.html\n",
    "b1 = torch.randn(n_hidden, generator=g) * 0.01 \n",
    "W2 = torch.randn((n_hidden, vocab_size), generator=g) * 0.01 \n",
    "# Never use a 0 for the weights\n",
    "b2 = torch.randn(vocab_size, generator=g) * 0 \n",
    "\n",
    "bngain = torch.ones((1, n_hidden))\n",
    "bnbias = torch.zeros((1, n_hidden))\n",
    "\n",
    "# Created to track the running values, not for gradient optomization\n",
    "bnmean_running = torch.zeros((1, n_hidden))\n",
    "bnstd_running = torch.ones((1, n_hidden))\n",
    "\n",
    "parameters = [C,W1,b1,W2,b2,bngain,bnbias]\n",
    "print(sum(p.nelement() for p in parameters)) #number of parameters in total\n",
    "for p in parameters:\n",
    "    p.requires_grad = True\n"
   ]
  },
  {
   "cell_type": "code",
   "execution_count": 142,
   "metadata": {},
   "outputs": [
    {
     "name": "stdout",
     "output_type": "stream",
     "text": [
      "tensor(-0.0136) tensor(0.9980)\n",
      "tensor(0.0039) tensor(0.9998)\n"
     ]
    },
    {
     "data": {
      "text/plain": [
       "(array([2.44406150e-05, 0.00000000e+00, 2.44406150e-05, 7.33218451e-05,\n",
       "        9.77624601e-05, 7.33218451e-05, 3.91049841e-04, 7.33218451e-04,\n",
       "        1.56419936e-03, 1.71084305e-03, 3.12839872e-03, 5.76798515e-03,\n",
       "        9.72736478e-03, 1.40289130e-02, 2.30719406e-02, 3.63187539e-02,\n",
       "        5.56023992e-02, 7.95053207e-02, 1.10593783e-01, 1.52631641e-01,\n",
       "        2.05398929e-01, 2.51640572e-01, 3.04139013e-01, 3.47765511e-01,\n",
       "        3.81737966e-01, 4.05689769e-01, 4.07620578e-01, 3.85990633e-01,\n",
       "        3.63065336e-01, 3.16701490e-01, 2.63323186e-01, 2.09456071e-01,\n",
       "        1.64143171e-01, 1.24964865e-01, 8.95259729e-02, 6.15170280e-02,\n",
       "        4.24777889e-02, 2.57604082e-02, 1.58863998e-02, 1.14137672e-02,\n",
       "        6.81893159e-03, 3.29948303e-03, 1.88192736e-03, 1.17314952e-03,\n",
       "        9.53183986e-04, 2.93287380e-04, 1.95524920e-04, 1.22203075e-04,\n",
       "        4.88812301e-05, 4.88812301e-05]),\n",
       " array([-5.34222221, -5.13764471, -4.93306721, -4.7284897 , -4.5239122 ,\n",
       "        -4.3193347 , -4.11475719, -3.91017969, -3.70560219, -3.50102468,\n",
       "        -3.29644718, -3.09186968, -2.88729218, -2.68271467, -2.47813717,\n",
       "        -2.27355967, -2.06898216, -1.86440466, -1.65982716, -1.45524965,\n",
       "        -1.25067215, -1.04609465, -0.84151714, -0.63693964, -0.43236214,\n",
       "        -0.22778463, -0.02320713,  0.18137037,  0.38594788,  0.59052538,\n",
       "         0.79510288,  0.99968039,  1.20425789,  1.40883539,  1.6134129 ,\n",
       "         1.8179904 ,  2.0225679 ,  2.2271454 ,  2.43172291,  2.63630041,\n",
       "         2.84087791,  3.04545542,  3.25003292,  3.45461042,  3.65918793,\n",
       "         3.86376543,  4.06834293,  4.27292044,  4.47749794,  4.68207544,\n",
       "         4.88665295]),\n",
       " <BarContainer object of 50 artists>)"
      ]
     },
     "execution_count": 142,
     "metadata": {},
     "output_type": "execute_result"
    },
    {
     "data": {
      "image/png": "[encoded data removed]",
      "text/plain": [
       "<Figure size 1440x360 with 2 Axes>"
      ]
     },
     "metadata": {
      "needs_background": "light"
     },
     "output_type": "display_data"
    }
   ],
   "source": [
    "### Example for finding the initial scales for optimizing, \n",
    "# essentially the 0.1 and 0.2 in code above\n",
    "x = torch.randn(1000,30)\n",
    "w = torch.randn(30, 200) / 30 ** 0.5 ##The fan_in, important for initilization\n",
    "# Recall , this is for TanH only, for example Relu is (2/n) ** 0.5\n",
    "#Square root of the connecting dimension, \n",
    "# goal is to get standard deviation of 1\n",
    "y = x @ w\n",
    "print(x.mean(),x.std()) \n",
    "print(y.mean(),y.std())\n",
    "plt.figure(figsize=(20,5))\n",
    "plt.subplot(121)\n",
    "plt.hist(x.view(-1).tolist(),50, density=True)\n",
    "plt.subplot(122)\n",
    "plt.hist(y.view(-1).tolist(),50, density=True)"
   ]
  },
  {
   "cell_type": "code",
   "execution_count": 143,
   "metadata": {},
   "outputs": [
    {
     "name": "stdout",
     "output_type": "stream",
     "text": [
      "      0/ 200000: 3.3093\n",
      "  10000/ 200000: 1.9598\n",
      "  20000/ 200000: 2.7070\n",
      "  30000/ 200000: 1.7162\n",
      "  40000/ 200000: 1.9524\n",
      "  50000/ 200000: 2.0513\n",
      "  60000/ 200000: 2.4587\n",
      "  70000/ 200000: 2.0213\n",
      "  80000/ 200000: 2.0152\n",
      "  90000/ 200000: 1.8464\n",
      " 100000/ 200000: 2.6739\n",
      " 110000/ 200000: 2.2963\n",
      " 120000/ 200000: 2.0337\n",
      " 130000/ 200000: 1.9196\n",
      " 140000/ 200000: 2.0607\n",
      " 150000/ 200000: 2.3897\n",
      " 160000/ 200000: 2.1936\n",
      " 170000/ 200000: 2.1606\n",
      " 180000/ 200000: 2.2760\n",
      " 190000/ 200000: 2.4629\n"
     ]
    }
   ],
   "source": [
    "#Optimization\n",
    "max_steps = 200000\n",
    "batch_size = 32\n",
    "lossi = []\n",
    "\n",
    "for i in range(max_steps):\n",
    "    \n",
    "    #minibatch construct\n",
    "    ix = torch.randint(0, Xtr.shape[0], (batch_size,), generator=g)\n",
    "    Xb, Yb = Xtr[ix], Ytr[ix] #batch X,Y\n",
    "\n",
    "    #Forward pass\n",
    "    emb = C[Xb] #Embed characets into the vectors\n",
    "    embcat = emb.view(emb.shape[0], -1) #Concatenate the vectors        \n",
    "    hpreact = embcat @ W1 #+ b1 # hidden layer pre-activation, \n",
    "    # standardized the gaussian, insight from Paper\n",
    "    # Batch norm layer\n",
    "    #---------------------------------------------------\n",
    "    bnmeani = hpreact.mean(0, keepdim=True)\n",
    "    bnstdi = hpreact.std(0, keepdim=True)\n",
    "    hpreact = bngain * (hpreact - bnmeani) / bnstdi + bnbias\n",
    "\n",
    "    #Implement Batch Intilization because two problems\n",
    "    # 1 - Too small TanH does nothing\n",
    "    # 2 - Too large Tanh is saturated, look at image below\n",
    "    # now every Nueron will guassianed, but don't want it to be so \n",
    "    # at every  neuron, only at initialization \n",
    "    # So, we have to Scale And Gain, \n",
    "    # scaling by gain and offsetting by some bias\n",
    "\n",
    "    # After we calibrate the batch norm and have trackers\n",
    "    with torch.no_grad():\n",
    "        bnmean_running = 0.999 * bnmean_running + 0.001 * bnmeani\n",
    "        bnstd_running = 0.999 * bnstd_running + 0.001 * bnstdi\n",
    "\n",
    "    # Non-linearity\n",
    "    #---------------------------------------------------\n",
    "    h = torch.tanh(hpreact) # hidden layer\n",
    "    logits = h @ W2 + b2 # output layer\n",
    "    loss = F.cross_entropy(logits, Yb) #loss function\n",
    "\n",
    "    #Backward pass\n",
    "    for p in parameters:\n",
    "        p.grad = None\n",
    "    loss.backward()\n",
    "\n",
    "    #Update\n",
    "    lr = 0.1 if i < 100000 else 0.01 # Step learning rate decat\n",
    "    for p in parameters:\n",
    "        p.data += -lr * p.grad\n",
    "\n",
    "    #Track Stats\n",
    "    if i % 10000 == 0: #  Print every once in a while\n",
    "        print(f'{i:7d}/{max_steps:7d}: {loss.item():.4f}')\n",
    "    lossi.append(loss.log10().item())\n",
    "\n"
   ]
  },
  {
   "cell_type": "code",
   "execution_count": 144,
   "metadata": {},
   "outputs": [
    {
     "data": {
      "text/plain": [
       "torch.Size([32, 200])"
      ]
     },
     "execution_count": 144,
     "metadata": {},
     "output_type": "execute_result"
    }
   ],
   "source": [
    "hpreact.shape\n",
    "#32,200 and we want these to roughly gaussian"
   ]
  },
  {
   "cell_type": "code",
   "execution_count": 145,
   "metadata": {},
   "outputs": [
    {
     "data": {
      "text/plain": [
       "torch.Size([1, 200])"
      ]
     },
     "execution_count": 145,
     "metadata": {},
     "output_type": "execute_result"
    }
   ],
   "source": [
    "hpreact.mean(0, keepdim=True).shape\n"
   ]
  },
  {
   "cell_type": "code",
   "execution_count": 146,
   "metadata": {},
   "outputs": [
    {
     "data": {
      "text/plain": [
       "[<matplotlib.lines.Line2D at 0x7fd29576ef10>]"
      ]
     },
     "execution_count": 146,
     "metadata": {},
     "output_type": "execute_result"
    },
    {
     "data": {
      "image/png": "[encoded data removed]",
      "text/plain": [
       "<Figure size 432x288 with 1 Axes>"
      ]
     },
     "metadata": {
      "needs_background": "light"
     },
     "output_type": "display_data"
    }
   ],
   "source": [
    "plt.plot(lossi)\n",
    "# no longer had hocket stick look, weights have been shrunk down \n",
    "# so we can see if the loss is on the right path"
   ]
  },
  {
   "cell_type": "code",
   "execution_count": 147,
   "metadata": {},
   "outputs": [
    {
     "data": {
      "image/png": "[encoded data removed]",
      "text/plain": [
       "<Figure size 432x288 with 1 Axes>"
      ]
     },
     "metadata": {
      "needs_background": "light"
     },
     "output_type": "display_data"
    }
   ],
   "source": [
    "plt.hist(hpreact.view(-1).tolist(),50);\n",
    "#Preactivation range from (-30,30) to (-4,4)\n",
    "# After intilization fix"
   ]
  },
  {
   "cell_type": "code",
   "execution_count": 148,
   "metadata": {},
   "outputs": [
    {
     "data": {
      "image/png": "[encoded data removed]",
      "text/plain": [
       "<Figure size 432x288 with 1 Axes>"
      ]
     },
     "metadata": {
      "needs_background": "light"
     },
     "output_type": "display_data"
    }
   ],
   "source": [
    "plt.hist(h.view(-1).tolist(),50);"
   ]
  },
  {
   "cell_type": "code",
   "execution_count": 151,
   "metadata": {},
   "outputs": [
    {
     "name": "stdout",
     "output_type": "stream",
     "text": [
      "train 2.062958240509033\n",
      "val 2.117814302444458\n"
     ]
    }
   ],
   "source": [
    "@torch.no_grad() #This decorator disables gradient tracking\n",
    "def split_loss(split):\n",
    "    x,y = {\n",
    "        'train': (Xtr, Ytr),\n",
    "        'val': (Xdev, Ydev),\n",
    "        'test': (Xte, Yte),\n",
    "    }[split]\n",
    "    emb = C[x] # (N, block_size, n_embd)\n",
    "    embcat = emb.view(emb.shape[0], -1) #Concatenate into (N,block_size * n_embd)\n",
    "    hpreact = embcat @ W1 + b1 # hidden layer pre-activation, \n",
    "    # hpreact = bngain * (hpreact - hpreact.mean(0, keepdim=True)) / hpreact.std(0, keepdim=True) + bnbias\n",
    "    # instead of doing it dynamically, as in above, we do using the function from above\n",
    "    bnmeani = hpreact.mean(0, keepdim=True)\n",
    "    bnstdi = hpreact.std(0, keepdim=True)\n",
    "    hpreact = bngain * (hpreact - bnmean_running) / bnstd_running + bnbias\n",
    "    # Advatange is that we can do single examples since means and stds are fixed \n",
    "    # Padding out and adding in entropy(regularizer), like augmenting to reduce overfit\n",
    "\n",
    "\n",
    "    h = torch.tanh(hpreact) # (N, vocab_size)\n",
    "    logits = h @ W2 + b2 # (N, vocab_size)\n",
    "    loss = F.cross_entropy(logits, y)\n",
    "    print(split, loss.item())\n",
    "\n",
    "split_loss('train')\n",
    "split_loss('val')\n",
    "\n",
    "# Improvements to loss after changes baised on notes from below \n",
    "# we had smaller weights and biases for 1st neuron\n",
    "# Reason fro change was tanh layer was too saturated, \n",
    "# shown previously by lot of white space in figure below\n",
    "\n"
   ]
  },
  {
   "cell_type": "raw",
   "metadata": {},
   "source": [
    "# Results before Batch Optimization\n",
    "train 2.020562171936035\n",
    "val 2.105647087097168\n",
    "# After\n",
    "train 2.046449661254883\n",
    "val 2.105436086654663\n",
    "# Results After we calibrate Batch Norm\n",
    "train 2.062958240509033\n",
    "val 2.117814302444458\n"
   ]
  },
  {
   "cell_type": "code",
   "execution_count": 152,
   "metadata": {},
   "outputs": [
    {
     "data": {
      "text/plain": [
       "<matplotlib.image.AxesImage at 0x7fd28928ad90>"
      ]
     },
     "execution_count": 152,
     "metadata": {},
     "output_type": "execute_result"
    },
    {
     "data": {
      "image/png": "[encoded data removed]",
      "text/plain": [
       "<Figure size 1440x720 with 1 Axes>"
      ]
     },
     "metadata": {
      "needs_background": "light"
     },
     "output_type": "display_data"
    }
   ],
   "source": [
    "plt.figure(figsize=(20,10))\n",
    "plt.imshow(h.abs() > 0.99, cmap='gray',interpolation='nearest') #Boolean tensor\n",
    "#Shows how often in a flat region, \n",
    "# white if true and black if not\n",
    "# from 30 examples with 200 neurons\n",
    "\n",
    "#Lot of white space in first run, so the tanh function was very active\n",
    "# if mainly black spots, dead neuron\n",
    "\n",
    "# Same methodoloy for other activation function like\n",
    "# 1 - Sigmoid\n",
    "# 2 - Tanh\n",
    "# 3 - ReLU\n",
    "# 4 - Leaky ReLU\n",
    "# 5 - Maxout\n",
    "# 6 - ELU\n",
    "\n",
    "# Conclusion, not optimal and need to fix initialization because \n",
    "# there are too many extermes in the data, as shown by 2 graphs above\n",
    "\n",
    "# Initlization fixed , less white "
   ]
  },
  {
   "cell_type": "code",
   "execution_count": null,
   "metadata": {},
   "outputs": [],
   "source": [
    "\n"
   ]
  }
 ],
 "metadata": {
  "kernelspec": {
   "display_name": "Python 3.9.12 ('base')",
   "language": "python",
   "name": "python3"
  },
  "language_info": {
   "codemirror_mode": {
    "name": "ipython",
    "version": 3
   },
   "file_extension": ".py",
   "mimetype": "text/x-python",
   "name": "python",
   "nbconvert_exporter": "python",
   "pygments_lexer": "ipython3",
   "version": "3.9.12"
  },
  "orig_nbformat": 4,
  "vscode": {
   "interpreter": {
    "hash": "bece0eb1fc0b6cc6c86bdf947b1b52af14eb8ddab5100f6d9dacc268b49a9540"
   }
  }
 },
 "nbformat": 4,
 "nbformat_minor": 2
}
