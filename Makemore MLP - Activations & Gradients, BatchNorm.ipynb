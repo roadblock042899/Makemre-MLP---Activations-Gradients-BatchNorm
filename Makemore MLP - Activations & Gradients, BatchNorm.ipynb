{
 "cells": [
  {
   "cell_type": "code",
   "execution_count": 1,
   "metadata": {},
   "outputs": [],
   "source": [
    "import torch\n",
    "import torch.nn.functional as F \n",
    "import matplotlib.pyplot as plt # For making figures\n",
    "%matplotlib inline"
   ]
  },
  {
   "cell_type": "code",
   "execution_count": 4,
   "metadata": {},
   "outputs": [
    {
     "data": {
      "text/plain": [
       "['emma', 'olivia', 'ava', 'isabella', 'sophia', 'charlotte', 'mia', 'amelia']"
      ]
     },
     "execution_count": 4,
     "metadata": {},
     "output_type": "execute_result"
    }
   ],
   "source": [
    "# read in all the words\n",
    "words = open('names.txt','r').read().splitlines()\n",
    "words[:8]"
   ]
  },
  {
   "cell_type": "code",
   "execution_count": 5,
   "metadata": {},
   "outputs": [
    {
     "data": {
      "text/plain": [
       "32033"
      ]
     },
     "execution_count": 5,
     "metadata": {},
     "output_type": "execute_result"
    }
   ],
   "source": [
    "len(words)"
   ]
  },
  {
   "cell_type": "code",
   "execution_count": 7,
   "metadata": {},
   "outputs": [
    {
     "name": "stdout",
     "output_type": "stream",
     "text": [
      "{1: 'a', 2: 'b', 3: 'c', 4: 'd', 5: 'e', 6: 'f', 7: 'g', 8: 'h', 9: 'i', 10: 'j', 11: 'k', 12: 'l', 13: 'm', 14: 'n', 15: 'o', 16: 'p', 17: 'q', 18: 'r', 19: 's', 20: 't', 21: 'u', 22: 'v', 23: 'w', 24: 'x', 25: 'y', 26: 'z', 0: '.'}\n",
      "27\n"
     ]
    }
   ],
   "source": [
    "# Build the vocabulary of characters and mappings to/from integers\n",
    "chars = sorted(list(set(''.join(words))))\n",
    "stoi = {s: i + 1 for i,s in enumerate(chars)}\n",
    "stoi['.'] = 0\n",
    "itos = {i:s for s,i in stoi.items()}\n",
    "vocab_size = len(itos)\n",
    "print(itos)\n",
    "print(vocab_size)"
   ]
  },
  {
   "cell_type": "code",
   "execution_count": 76,
   "metadata": {},
   "outputs": [
    {
     "name": "stdout",
     "output_type": "stream",
     "text": [
      "torch.Size([182691, 3]) torch.Size([182691])\n",
      "torch.Size([22793, 3]) torch.Size([22793])\n",
      "torch.Size([205484, 3]) torch.Size([205484])\n"
     ]
    }
   ],
   "source": [
    "#Build the dataset: Train, Dev, and Test\n",
    "block_size = 3 #context length: How many characters needed to predict the next\n",
    "\n",
    "def build_dataset(words):\n",
    "    X, Y = [], []\n",
    "\n",
    "    for w in words:\n",
    "        context = [0] * block_size\n",
    "        for ch in w + '.':\n",
    "            ix = stoi[ch]\n",
    "            X.append(context)\n",
    "            Y.append(ix)\n",
    "            context = context[1:] + [ix] #crop and append\n",
    "\n",
    "    X = torch.tensor(X)\n",
    "    Y = torch.tensor(Y)\n",
    "    print(X.shape, Y.shape)\n",
    "    return X, Y\n",
    "\n",
    "import random\n",
    "random.seed(42)\n",
    "random.shuffle(words)\n",
    "n1 = int(0.8 * len(words))\n",
    "n2 = int(0.9 * len(words))\n",
    "\n",
    "Xtr, Ytr = build_dataset(words[:n1]) #80%\n",
    "Xdev, Ydev = build_dataset(words[n1:n2]) #10%\n",
    "Xte, Yte = build_dataset(words[:n2]) #Last 10%\n"
   ]
  },
  {
   "cell_type": "code",
   "execution_count": 77,
   "metadata": {},
   "outputs": [
    {
     "data": {
      "text/plain": [
       "30"
      ]
     },
     "execution_count": 77,
     "metadata": {},
     "output_type": "execute_result"
    }
   ],
   "source": [
    "n_embd * block_size"
   ]
  },
  {
   "cell_type": "code",
   "execution_count": 111,
   "metadata": {},
   "outputs": [
    {
     "name": "stdout",
     "output_type": "stream",
     "text": [
      "12297\n"
     ]
    }
   ],
   "source": [
    "#MLP revisited, no more magic numbers for the model\n",
    "n_embd = 10 #The dimensionality of the character embedding vector\n",
    "n_hidden = 200 #The Number of neurons in the hidden layer of the MLP\n",
    "\n",
    "g = torch.Generator().manual_seed(2147483647)\n",
    "C = torch.randn((vocab_size, n_embd), generator=g)\n",
    "W1 = torch.randn((n_embd * block_size, n_hidden), generator=g) * ((5/3) / ((n_embd * block_size) ** 0.5))\n",
    "# Gain / Fan in = 5/3 for Tanh divided by square root of fan in,\n",
    "# which is n_embd * block_size\n",
    "# More from https://pytorch.org/docs/stable/nn.init.html\n",
    "b1 = torch.randn(n_hidden, generator=g) * 0.01 \n",
    "W2 = torch.randn((n_hidden, vocab_size), generator=g) * 0.01 \n",
    "# Never use a 0 for the weights\n",
    "b2 = torch.randn(vocab_size, generator=g) * 0 \n",
    "\n",
    "bngain = torch.ones((1, n_hidden))\n",
    "bnbias = torch.zeros((1, n_hidden))\n",
    "\n",
    "parameters = [C,W1,b1,W2,b2,bngain,bnbias]\n",
    "print(sum(p.nelement() for p in parameters)) #number of parameters in total\n",
    "for p in parameters:\n",
    "    p.requires_grad = True\n"
   ]
  },
  {
   "cell_type": "code",
   "execution_count": 112,
   "metadata": {},
   "outputs": [
    {
     "name": "stdout",
     "output_type": "stream",
     "text": [
      "tensor(0.0122) tensor(0.9988)\n",
      "tensor(-0.0020) tensor(0.9902)\n"
     ]
    },
    {
     "data": {
      "text/plain": [
       "(array([7.49812972e-05, 7.49812972e-05, 7.49812972e-05, 2.24943891e-04,\n",
       "        3.99900251e-04, 6.49837909e-04, 1.57460724e-03, 2.34941398e-03,\n",
       "        4.14896511e-03, 7.44814218e-03, 1.16720886e-02, 1.77455737e-02,\n",
       "        3.04174129e-02, 4.47888282e-02, 6.27843395e-02, 9.17021264e-02,\n",
       "        1.27893099e-01, 1.71457233e-01, 2.21044864e-01, 2.70132620e-01,\n",
       "        3.24444073e-01, 3.62734522e-01, 3.92852010e-01, 4.10522602e-01,\n",
       "        4.01424871e-01, 3.93026966e-01, 3.53886729e-01, 3.07773231e-01,\n",
       "        2.56635986e-01, 2.03999116e-01, 1.58935356e-01, 1.17320736e-01,\n",
       "        8.30042959e-02, 5.93351998e-02, 3.99400376e-02, 2.55436286e-02,\n",
       "        1.69457732e-02, 1.00724876e-02, 5.67358482e-03, 3.37415837e-03,\n",
       "        1.89952619e-03, 1.37465711e-03, 5.74856611e-04, 2.99925189e-04,\n",
       "        2.74931423e-04, 4.99875314e-05, 1.24968829e-04, 2.49937657e-05,\n",
       "        0.00000000e+00, 2.49937657e-05]),\n",
       " array([-4.77513027, -4.57508039, -4.3750305 , -4.17498061, -3.97493073,\n",
       "        -3.77488084, -3.57483095, -3.37478106, -3.17473118, -2.97468129,\n",
       "        -2.7746314 , -2.57458152, -2.37453163, -2.17448174, -1.97443186,\n",
       "        -1.77438197, -1.57433208, -1.3742822 , -1.17423231, -0.97418242,\n",
       "        -0.77413254, -0.57408265, -0.37403276, -0.17398288,  0.02606701,\n",
       "         0.2261169 ,  0.42616678,  0.62621667,  0.82626656,  1.02631644,\n",
       "         1.22636633,  1.42641622,  1.6264661 ,  1.82651599,  2.02656588,\n",
       "         2.22661576,  2.42666565,  2.62671554,  2.82676542,  3.02681531,\n",
       "         3.2268652 ,  3.42691508,  3.62696497,  3.82701486,  4.02706474,\n",
       "         4.22711463,  4.42716452,  4.6272144 ,  4.82726429,  5.02731418,\n",
       "         5.22736406]),\n",
       " <BarContainer object of 50 artists>)"
      ]
     },
     "execution_count": 112,
     "metadata": {},
     "output_type": "execute_result"
    },
    {
     "data": {
      "image/png": "[encoded data removed]",
      "text/plain": [
       "<Figure size 1440x360 with 2 Axes>"
      ]
     },
     "metadata": {
      "needs_background": "light"
     },
     "output_type": "display_data"
    }
   ],
   "source": [
    "### Example for finding the initial scales for optimizing, \n",
    "# essentially the 0.1 and 0.2 in code above\n",
    "x = torch.randn(1000,30)\n",
    "w = torch.randn(30, 200) / 30 ** 0.5 ##The fan_in, important for initilization\n",
    "# Recall , this is for TanH only, for example Relu is (2/n) ** 0.5\n",
    "#Square root of the connecting dimension, \n",
    "# goal is to get standard deviation of 1\n",
    "y = x @ w\n",
    "print(x.mean(),x.std()) \n",
    "print(y.mean(),y.std())\n",
    "plt.figure(figsize=(20,5))\n",
    "plt.subplot(121)\n",
    "plt.hist(x.view(-1).tolist(),50, density=True)\n",
    "plt.subplot(122)\n",
    "plt.hist(y.view(-1).tolist(),50, density=True)"
   ]
  },
  {
   "cell_type": "code",
   "execution_count": 122,
   "metadata": {},
   "outputs": [
    {
     "name": "stdout",
     "output_type": "stream",
     "text": [
      "      0/ 200000: 1.9006\n",
      "  10000/ 200000: 2.3308\n",
      "  20000/ 200000: 2.0953\n",
      "  30000/ 200000: 2.0968\n",
      "  40000/ 200000: 2.6207\n",
      "  50000/ 200000: 1.9510\n",
      "  60000/ 200000: 2.1208\n",
      "  70000/ 200000: 2.3423\n",
      "  80000/ 200000: 2.6261\n",
      "  90000/ 200000: 2.1875\n",
      " 100000/ 200000: 2.0091\n",
      " 110000/ 200000: 1.7081\n",
      " 120000/ 200000: 2.1764\n",
      " 130000/ 200000: 2.0257\n",
      " 140000/ 200000: 2.3203\n",
      " 150000/ 200000: 2.5579\n",
      " 160000/ 200000: 2.0521\n",
      " 170000/ 200000: 1.9212\n",
      " 180000/ 200000: 1.9502\n",
      " 190000/ 200000: 2.0604\n"
     ]
    }
   ],
   "source": [
    "#Optimization\n",
    "max_steps = 200000\n",
    "batch_size = 32\n",
    "lossi = []\n",
    "\n",
    "for i in range(max_steps):\n",
    "    \n",
    "    #minibatch construct\n",
    "    ix = torch.randint(0, Xtr.shape[0], (batch_size,), generator=g)\n",
    "    Xb, Yb = Xtr[ix], Ytr[ix] #batch X,Y\n",
    "\n",
    "    #Forward pass\n",
    "    emb = C[Xb] #Embed characets into the vectors\n",
    "    embcat = emb.view(emb.shape[0], -1) #Concatenate the vectors        \n",
    "    hpreact = embcat @ W1 + b1 # hidden layer pre-activation, \n",
    "    # standardized the gaussian, insight from Paper\n",
    "    hpreact = bngain * (hpreact - hpreact.mean(0, keepdim=True)) / hpreact.std(0, keepdim=True) + bnbias\n",
    "    #Implement Batch Intilization because two problems\n",
    "    # 1 - Too small TanH does nothing\n",
    "    # 2 - Too large Tanh is saturated, look at image below\n",
    "    # now every Nueron will guassianed, but don't want it to be so \n",
    "    # at every  neuron, only at initialization \n",
    "    # So, we have to Scale And Gain, \n",
    "    # scaling by gain and offsetting by some bias\n",
    "\n",
    "    h = torch.tanh(hpreact) # hidden layer\n",
    "    logits = h @ W2 + b2 # output layer\n",
    "    loss = F.cross_entropy(logits, Yb) #loss function\n",
    "\n",
    "    #Backward pass\n",
    "    for p in parameters:\n",
    "        p.grad = None\n",
    "    loss.backward()\n",
    "\n",
    "    #Update\n",
    "    lr = 0.1 if i < 100000 else 0.01 # Step learning rate decat\n",
    "    for p in parameters:\n",
    "        p.data += -lr * p.grad\n",
    "\n",
    "    #Track Stats\n",
    "    if i % 10000 == 0: #  Print every once in a while\n",
    "        print(f'{i:7d}/{max_steps:7d}: {loss.item():.4f}')\n",
    "    lossi.append(loss.log10().item())\n",
    "\n"
   ]
  },
  {
   "cell_type": "code",
   "execution_count": 129,
   "metadata": {},
   "outputs": [
    {
     "data": {
      "text/plain": [
       "torch.Size([32, 200])"
      ]
     },
     "execution_count": 129,
     "metadata": {},
     "output_type": "execute_result"
    }
   ],
   "source": [
    "hpreact.shape\n",
    "#32,200 and we want these to roughly gaussian"
   ]
  },
  {
   "cell_type": "code",
   "execution_count": 130,
   "metadata": {},
   "outputs": [
    {
     "data": {
      "text/plain": [
       "torch.Size([1, 200])"
      ]
     },
     "execution_count": 130,
     "metadata": {},
     "output_type": "execute_result"
    }
   ],
   "source": [
    "hpreact.mean(0, keepdim=True).shape\n"
   ]
  },
  {
   "cell_type": "code",
   "execution_count": 131,
   "metadata": {},
   "outputs": [
    {
     "data": {
      "text/plain": [
       "[<matplotlib.lines.Line2D at 0x7fd297861370>]"
      ]
     },
     "execution_count": 131,
     "metadata": {},
     "output_type": "execute_result"
    },
    {
     "data": {
      "image/png": "[encoded data removed]",
      "text/plain": [
       "<Figure size 432x288 with 1 Axes>"
      ]
     },
     "metadata": {
      "needs_background": "light"
     },
     "output_type": "display_data"
    }
   ],
   "source": [
    "plt.plot(lossi)\n",
    "# no longer had hocket stick look, weights have been shrunk down \n",
    "# so we can see if the loss is on the right path"
   ]
  },
  {
   "cell_type": "code",
   "execution_count": 132,
   "metadata": {},
   "outputs": [
    {
     "data": {
      "image/png": "[encoded data removed]",
      "text/plain": [
       "<Figure size 432x288 with 1 Axes>"
      ]
     },
     "metadata": {
      "needs_background": "light"
     },
     "output_type": "display_data"
    }
   ],
   "source": [
    "plt.hist(hpreact.view(-1).tolist(),50);\n",
    "#Preactivation range from (-30,30) to (-4,4)\n",
    "# After intilization fix"
   ]
  },
  {
   "cell_type": "code",
   "execution_count": 133,
   "metadata": {},
   "outputs": [
    {
     "data": {
      "image/png": "[encoded data removed]",
      "text/plain": [
       "<Figure size 432x288 with 1 Axes>"
      ]
     },
     "metadata": {
      "needs_background": "light"
     },
     "output_type": "display_data"
    }
   ],
   "source": [
    "plt.hist(h.view(-1).tolist(),50);"
   ]
  },
  {
   "cell_type": "code",
   "execution_count": 134,
   "metadata": {},
   "outputs": [
    {
     "name": "stdout",
     "output_type": "stream",
     "text": [
      "train 2.046449661254883\n",
      "val 2.105436086654663\n"
     ]
    }
   ],
   "source": [
    "@torch.no_grad() #This decorator disables gradient tracking\n",
    "def split_loss(split):\n",
    "    x,y = {\n",
    "        'train': (Xtr, Ytr),\n",
    "        'val': (Xdev, Ydev),\n",
    "        'test': (Xte, Yte),\n",
    "    }[split]\n",
    "    emb = C[x] # (N, block_size, n_embd)\n",
    "    embcat = emb.view(emb.shape[0], -1) #Concatenate into (N,block_size * n_embd)\n",
    "    hpreact = embcat @ W1 + b1 # hidden layer pre-activation, \n",
    "    hpreact = bngain * (hpreact - hpreact.mean(0, keepdim=True)) / hpreact.std(0, keepdim=True) + bnbias\n",
    "    # Padding out and adding in entropy(regularizer), like augmenting to reduce overfit\n",
    "    h = torch.tanh(hpreact) # (N, vocab_size)\n",
    "    logits = h @ W2 + b2 # (N, vocab_size)\n",
    "    loss = F.cross_entropy(logits, y)\n",
    "    print(split, loss.item())\n",
    "\n",
    "split_loss('train')\n",
    "split_loss('val')\n",
    "\n",
    "# Improvements to loss after changes baised on notes from below \n",
    "# we had smaller weights and biases for 1st neuron\n",
    "# Reason fro change was tanh layer was too saturated, \n",
    "# shown previously by lot of white space in figure below\n",
    "\n"
   ]
  },
  {
   "cell_type": "code",
   "execution_count": 135,
   "metadata": {},
   "outputs": [
    {
     "ename": "SyntaxError",
     "evalue": "invalid syntax (2611649031.py, line 2)",
     "output_type": "error",
     "traceback": [
      "\u001b[0;36m  Input \u001b[0;32mIn [135]\u001b[0;36m\u001b[0m\n\u001b[0;31m    train 2.020562171936035\u001b[0m\n\u001b[0m          ^\u001b[0m\n\u001b[0;31mSyntaxError\u001b[0m\u001b[0;31m:\u001b[0m invalid syntax\n"
     ]
    }
   ],
   "source": [
    "# Results before Batch Optimization\n",
    "train 2.020562171936035\n",
    "val 2.105647087097168\n",
    "# After\n",
    "train 2.046449661254883\n",
    "val 2.105436086654663"
   ]
  },
  {
   "cell_type": "code",
   "execution_count": 136,
   "metadata": {},
   "outputs": [
    {
     "data": {
      "text/plain": [
       "<matplotlib.image.AxesImage at 0x7fd295c57850>"
      ]
     },
     "execution_count": 136,
     "metadata": {},
     "output_type": "execute_result"
    },
    {
     "data": {
      "image/png": "[encoded data removed]",
      "text/plain": [
       "<Figure size 1440x720 with 1 Axes>"
      ]
     },
     "metadata": {
      "needs_background": "light"
     },
     "output_type": "display_data"
    }
   ],
   "source": [
    "plt.figure(figsize=(20,10))\n",
    "plt.imshow(h.abs() > 0.99, cmap='gray',interpolation='nearest') #Boolean tensor\n",
    "#Shows how often in a flat region, \n",
    "# white if true and black if not\n",
    "# from 30 examples with 200 neurons\n",
    "\n",
    "#Lot of white space in first run, so the tanh function was very active\n",
    "# if mainly black spots, dead neuron\n",
    "\n",
    "# Same methodoloy for other activation function like\n",
    "# 1 - Sigmoid\n",
    "# 2 - Tanh\n",
    "# 3 - ReLU\n",
    "# 4 - Leaky ReLU\n",
    "# 5 - Maxout\n",
    "# 6 - ELU\n",
    "\n",
    "# Conclusion, not optimal and need to fix initialization because \n",
    "# there are too many extermes in the data, as shown by 2 graphs above\n",
    "\n",
    "# Initlization fixed , less white "
   ]
  },
  {
   "cell_type": "code",
   "execution_count": null,
   "metadata": {},
   "outputs": [],
   "source": [
    "\n"
   ]
  }
 ],
 "metadata": {
  "kernelspec": {
   "display_name": "Python 3.9.12 ('base')",
   "language": "python",
   "name": "python3"
  },
  "language_info": {
   "codemirror_mode": {
    "name": "ipython",
    "version": 3
   },
   "file_extension": ".py",
   "mimetype": "text/x-python",
   "name": "python",
   "nbconvert_exporter": "python",
   "pygments_lexer": "ipython3",
   "version": "3.9.12"
  },
  "orig_nbformat": 4,
  "vscode": {
   "interpreter": {
    "hash": "bece0eb1fc0b6cc6c86bdf947b1b52af14eb8ddab5100f6d9dacc268b49a9540"
   }
  }
 },
 "nbformat": 4,
 "nbformat_minor": 2
}
