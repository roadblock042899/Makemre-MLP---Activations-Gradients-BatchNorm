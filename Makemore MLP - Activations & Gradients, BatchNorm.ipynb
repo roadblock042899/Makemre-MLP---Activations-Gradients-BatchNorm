{
 "cells": [
  {
   "cell_type": "code",
   "execution_count": 1,
   "metadata": {},
   "outputs": [],
   "source": [
    "import torch\n",
    "import torch.nn.functional as F \n",
    "import matplotlib.pyplot as plt # For making figures\n",
    "%matplotlib inline"
   ]
  },
  {
   "cell_type": "code",
   "execution_count": 4,
   "metadata": {},
   "outputs": [
    {
     "data": {
      "text/plain": [
       "['emma', 'olivia', 'ava', 'isabella', 'sophia', 'charlotte', 'mia', 'amelia']"
      ]
     },
     "execution_count": 4,
     "metadata": {},
     "output_type": "execute_result"
    }
   ],
   "source": [
    "# read in all the words\n",
    "words = open('names.txt','r').read().splitlines()\n",
    "words[:8]"
   ]
  },
  {
   "cell_type": "code",
   "execution_count": 5,
   "metadata": {},
   "outputs": [
    {
     "data": {
      "text/plain": [
       "32033"
      ]
     },
     "execution_count": 5,
     "metadata": {},
     "output_type": "execute_result"
    }
   ],
   "source": [
    "len(words)"
   ]
  },
  {
   "cell_type": "code",
   "execution_count": 7,
   "metadata": {},
   "outputs": [
    {
     "name": "stdout",
     "output_type": "stream",
     "text": [
      "{1: 'a', 2: 'b', 3: 'c', 4: 'd', 5: 'e', 6: 'f', 7: 'g', 8: 'h', 9: 'i', 10: 'j', 11: 'k', 12: 'l', 13: 'm', 14: 'n', 15: 'o', 16: 'p', 17: 'q', 18: 'r', 19: 's', 20: 't', 21: 'u', 22: 'v', 23: 'w', 24: 'x', 25: 'y', 26: 'z', 0: '.'}\n",
      "27\n"
     ]
    }
   ],
   "source": [
    "# Build the vocabulary of characters and mappings to/from integers\n",
    "chars = sorted(list(set(''.join(words))))\n",
    "stoi = {s: i + 1 for i,s in enumerate(chars)}\n",
    "stoi['.'] = 0\n",
    "itos = {i:s for s,i in stoi.items()}\n",
    "vocab_size = len(itos)\n",
    "print(itos)\n",
    "print(vocab_size)"
   ]
  },
  {
   "cell_type": "code",
   "execution_count": 76,
   "metadata": {},
   "outputs": [
    {
     "name": "stdout",
     "output_type": "stream",
     "text": [
      "torch.Size([182691, 3]) torch.Size([182691])\n",
      "torch.Size([22793, 3]) torch.Size([22793])\n",
      "torch.Size([205484, 3]) torch.Size([205484])\n"
     ]
    }
   ],
   "source": [
    "#Build the dataset: Train, Dev, and Test\n",
    "block_size = 3 #context length: How many characters needed to predict the next\n",
    "\n",
    "def build_dataset(words):\n",
    "    X, Y = [], []\n",
    "\n",
    "    for w in words:\n",
    "        context = [0] * block_size\n",
    "        for ch in w + '.':\n",
    "            ix = stoi[ch]\n",
    "            X.append(context)\n",
    "            Y.append(ix)\n",
    "            context = context[1:] + [ix] #crop and append\n",
    "\n",
    "    X = torch.tensor(X)\n",
    "    Y = torch.tensor(Y)\n",
    "    print(X.shape, Y.shape)\n",
    "    return X, Y\n",
    "\n",
    "import random\n",
    "random.seed(42)\n",
    "random.shuffle(words)\n",
    "n1 = int(0.8 * len(words))\n",
    "n2 = int(0.9 * len(words))\n",
    "\n",
    "Xtr, Ytr = build_dataset(words[:n1]) #80%\n",
    "Xdev, Ydev = build_dataset(words[n1:n2]) #10%\n",
    "Xte, Yte = build_dataset(words[:n2]) #Last 10%\n"
   ]
  },
  {
   "cell_type": "code",
   "execution_count": 77,
   "metadata": {},
   "outputs": [
    {
     "data": {
      "text/plain": [
       "30"
      ]
     },
     "execution_count": 77,
     "metadata": {},
     "output_type": "execute_result"
    }
   ],
   "source": [
    "n_embd * block_size"
   ]
  },
  {
   "cell_type": "code",
   "execution_count": 78,
   "metadata": {},
   "outputs": [
    {
     "ename": "SyntaxError",
     "evalue": "invalid syntax (1949954309.py, line 11)",
     "output_type": "error",
     "traceback": [
      "\u001b[0;36m  Input \u001b[0;32mIn [78]\u001b[0;36m\u001b[0m\n\u001b[0;31m    b1 = torch.randn(n_hidden, generator=g) * 0.01\u001b[0m\n\u001b[0m    ^\u001b[0m\n\u001b[0;31mSyntaxError\u001b[0m\u001b[0;31m:\u001b[0m invalid syntax\n"
     ]
    }
   ],
   "source": [
    "#MLP revisited, no more magic numbers for the model\n",
    "n_embd = 10 #The dimensionality of the character embedding vector\n",
    "n_hidden = 200 #The Number of neurons in the hidden layer of the MLP\n",
    "\n",
    "g = torch.Generator().manual_seed(2147483647)\n",
    "C = torch.randn((vocab_size, n_embd), generator=g)\n",
    "W1 = torch.randn((n_embd * block_size, n_hidden), generator=g) * ((5/3) / ((n_embd * block_size) ** 0.5)\n",
    "# Gain / Fan in = 5/3 for Tanh divided by square root of fan in,\n",
    "# which is n_embd * block_size\n",
    "# More from https://pytorch.org/docs/stable/nn.init.html\n",
    "b1 = torch.randn(n_hidden, generator=g) * 0.01 \n",
    "W2 = torch.randn((n_hidden, vocab_size), generator=g) * 0.01 \n",
    "# Never use a 0 for the weights\n",
    "b2 = torch.randn(vocab_size, generator=g) * 0 \n",
    "\n",
    "\n",
    "parameters = [C,W1,b1,W2,b2]\n",
    "print(sum(p.nelement() for p in parameters)) #number of parameters in total\n",
    "for p in parameters:\n",
    "    p.requires_grad = True\n"
   ]
  },
  {
   "cell_type": "code",
   "execution_count": 75,
   "metadata": {},
   "outputs": [
    {
     "name": "stdout",
     "output_type": "stream",
     "text": [
      "tensor(-0.0088) tensor(1.0110)\n",
      "tensor(-0.0015) tensor(0.9907)\n"
     ]
    },
    {
     "data": {
      "text/plain": [
       "(array([2.42346205e-05, 0.00000000e+00, 2.42346205e-05, 2.42346205e-05,\n",
       "        7.27038616e-05, 7.27038616e-05, 2.42346205e-04, 3.15050067e-04,\n",
       "        5.81630893e-04, 8.96680960e-04, 1.55101571e-03, 2.66580826e-03,\n",
       "        4.89539335e-03, 8.96680960e-03, 1.33532759e-02, 2.28047779e-02,\n",
       "        3.43889265e-02, 5.26860650e-02, 7.79385396e-02, 1.09419312e-01,\n",
       "        1.47855420e-01, 1.99111642e-01, 2.48283687e-01, 3.03175103e-01,\n",
       "        3.53025717e-01, 3.87826632e-01, 4.16883942e-01, 4.08232183e-01,\n",
       "        3.92794730e-01, 3.53704287e-01, 3.16116390e-01, 2.61515790e-01,\n",
       "        2.10816964e-01, 1.59269926e-01, 1.16980513e-01, 8.25915868e-02,\n",
       "        5.74845199e-02, 3.79271811e-02, 2.37256935e-02, 1.67218882e-02,\n",
       "        9.03951346e-03, 5.62243196e-03, 3.07779681e-03, 2.27805433e-03,\n",
       "        8.96680960e-04, 3.87753929e-04, 2.90815446e-04, 1.93876964e-04,\n",
       "        7.27038616e-05, 9.69384821e-05]),\n",
       " array([-5.59338284, -5.38706642, -5.18075001, -4.97443359, -4.76811718,\n",
       "        -4.56180077, -4.35548435, -4.14916794, -3.94285152, -3.73653511,\n",
       "        -3.5302187 , -3.32390228, -3.11758587, -2.91126945, -2.70495304,\n",
       "        -2.49863663, -2.29232021, -2.0860038 , -1.87968739, -1.67337097,\n",
       "        -1.46705456, -1.26073814, -1.05442173, -0.84810532, -0.6417889 ,\n",
       "        -0.43547249, -0.22915607, -0.02283966,  0.18347675,  0.38979317,\n",
       "         0.59610958,  0.80242599,  1.00874241,  1.21505882,  1.42137524,\n",
       "         1.62769165,  1.83400806,  2.04032448,  2.24664089,  2.45295731,\n",
       "         2.65927372,  2.86559013,  3.07190655,  3.27822296,  3.48453938,\n",
       "         3.69085579,  3.8971722 ,  4.10348862,  4.30980503,  4.51612144,\n",
       "         4.72243786]),\n",
       " <BarContainer object of 50 artists>)"
      ]
     },
     "execution_count": 75,
     "metadata": {},
     "output_type": "execute_result"
    },
    {
     "data": {
      "image/png": "[encoded data removed]",
      "text/plain": [
       "<Figure size 1440x360 with 2 Axes>"
      ]
     },
     "metadata": {
      "needs_background": "light"
     },
     "output_type": "display_data"
    }
   ],
   "source": [
    "### Example for finding the initial scales for optimizing, \n",
    "# essentially the 0.1 and 0.2 in code above\n",
    "x = torch.randn(1000,30)\n",
    "w = torch.randn(30, 200) / 30 ** 0.5 ##The fan_in, important for initilization\n",
    "# Recall , this is for TanH only, for example Relu is (2/n) ** 0.5\n",
    "#Square root of the connecting dimension, \n",
    "# goal is to get standard deviation of 1\n",
    "y = x @ w\n",
    "print(x.mean(),x.std()) \n",
    "print(y.mean(),y.std())\n",
    "plt.figure(figsize=(20,5))\n",
    "plt.subplot(121)\n",
    "plt.hist(x.view(-1).tolist(),50, density=True)\n",
    "plt.subplot(122)\n",
    "plt.hist(y.view(-1).tolist(),50, density=True)"
   ]
  },
  {
   "cell_type": "code",
   "execution_count": 79,
   "metadata": {},
   "outputs": [
    {
     "name": "stdout",
     "output_type": "stream",
     "text": [
      "      0/ 200000: 3.3047\n",
      "  10000/ 200000: 1.9094\n"
     ]
    }
   ],
   "source": [
    "#Optimization\n",
    "max_steps = 200000\n",
    "batch_size = 32\n",
    "lossi = []\n",
    "\n",
    "for i in range(max_steps):\n",
    "    \n",
    "    #minibatch construct\n",
    "    ix = torch.randint(0, Xtr.shape[0], (batch_size,), generator=g)\n",
    "    Xb, Yb = Xtr[ix], Ytr[ix] #batch X,Y\n",
    "\n",
    "    #Forward pass\n",
    "    emb = C[Xb] #Embed characets into the vectors\n",
    "    embcat = emb.view(emb.shape[0], -1) #Concatenate the vectors        \n",
    "    hpreact = embcat @ W1 + b1 # hidden layer pre-activation\n",
    "    h = torch.tanh(hpreact) # hidden layer\n",
    "    logits = h @ W2 + b2 # output layer\n",
    "    loss = F.cross_entropy(logits, Yb) #loss function\n",
    "\n",
    "    #Backward pass\n",
    "    for p in parameters:\n",
    "        p.grad = None\n",
    "    loss.backward()\n",
    "\n",
    "    #Update\n",
    "    lr = 0.1 if i < 100000 else 0.01 # Step learning rate decat\n",
    "    for p in parameters:\n",
    "        p.data += -lr * p.grad\n",
    "\n",
    "    #Track Stats\n",
    "    if i % 10000 == 0: #  Print every once in a while\n",
    "        print(f'{i:7d}/{max_steps:7d}: {loss.item():.4f}')\n",
    "    lossi.append(loss.log10().item())\n",
    "\n"
   ]
  },
  {
   "cell_type": "code",
   "execution_count": 66,
   "metadata": {},
   "outputs": [
    {
     "data": {
      "text/plain": [
       "[<matplotlib.lines.Line2D at 0x7fd27973a220>]"
      ]
     },
     "execution_count": 66,
     "metadata": {},
     "output_type": "execute_result"
    },
    {
     "data": {
      "image/png": "[encoded data removed]",
      "text/plain": [
       "<Figure size 432x288 with 1 Axes>"
      ]
     },
     "metadata": {
      "needs_background": "light"
     },
     "output_type": "display_data"
    }
   ],
   "source": [
    "plt.plot(lossi)\n",
    "# no longer had hocket stick look, weights have been shrunk down \n",
    "# so we can see if the loss is on the right path"
   ]
  },
  {
   "cell_type": "code",
   "execution_count": 67,
   "metadata": {},
   "outputs": [
    {
     "data": {
      "image/png": "[encoded data removed]",
      "text/plain": [
       "<Figure size 432x288 with 1 Axes>"
      ]
     },
     "metadata": {
      "needs_background": "light"
     },
     "output_type": "display_data"
    }
   ],
   "source": [
    "plt.hist(hpreact.view(-1).tolist(),50);\n",
    "#Preactivation range from (-30,30) to (-7.5,10)\n",
    "# After intilization fix"
   ]
  },
  {
   "cell_type": "code",
   "execution_count": 68,
   "metadata": {},
   "outputs": [
    {
     "data": {
      "image/png": "[encoded data removed]",
      "text/plain": [
       "<Figure size 432x288 with 1 Axes>"
      ]
     },
     "metadata": {
      "needs_background": "light"
     },
     "output_type": "display_data"
    }
   ],
   "source": [
    "plt.hist(h.view(-1).tolist(),50);"
   ]
  },
  {
   "cell_type": "code",
   "execution_count": 69,
   "metadata": {},
   "outputs": [
    {
     "name": "stdout",
     "output_type": "stream",
     "text": [
      "train 2.033403158187866\n",
      "val 2.10168194770813\n"
     ]
    }
   ],
   "source": [
    "@torch.no_grad() #This decorator disables gradient tracking\n",
    "def split_loss(split):\n",
    "    x,y = {\n",
    "        'train': (Xtr, Ytr),\n",
    "        'val': (Xdev, Ydev),\n",
    "        'test': (Xte, Yte),\n",
    "    }[split]\n",
    "    emb = C[x] # (N, block_size, n_embd)\n",
    "    embcat = emb.view(emb.shape[0], -1) #Concatenate into (N,block_size * n_embd)\n",
    "    h = torch.tanh(embcat @ W1 + b1) # (N, vocab_size)\n",
    "    logits = h @ W2 + b2 # (N, vocab_size)\n",
    "    loss = F.cross_entropy(logits, y)\n",
    "    print(split, loss.item())\n",
    "\n",
    "split_loss('train')\n",
    "split_loss('val')\n",
    "\n",
    "# Improvements to loss after changes baised on notes from below \n",
    "# we had smaller weights and biases for 1st neuron\n",
    "# Reason fro change was tanh layer was too saturated, \n",
    "# shown previously by lot of white space in figure below"
   ]
  },
  {
   "cell_type": "code",
   "execution_count": 70,
   "metadata": {},
   "outputs": [
    {
     "data": {
      "text/plain": [
       "<matplotlib.image.AxesImage at 0x7fd288a1b7f0>"
      ]
     },
     "execution_count": 70,
     "metadata": {},
     "output_type": "execute_result"
    },
    {
     "data": {
      "image/png": "[encoded data removed]",
      "text/plain": [
       "<Figure size 1440x720 with 1 Axes>"
      ]
     },
     "metadata": {
      "needs_background": "light"
     },
     "output_type": "display_data"
    }
   ],
   "source": [
    "plt.figure(figsize=(20,10))\n",
    "plt.imshow(h.abs() > 0.99, cmap='gray',interpolation='nearest') #Boolean tensor\n",
    "#Shows how often in a flat region, \n",
    "# white if true and black if not\n",
    "# from 30 examples with 200 neurons\n",
    "\n",
    "#Lot of white space in first run, so the tanh function was very active\n",
    "# if mainly black spots, dead neuron\n",
    "\n",
    "# Same methodoloy for other activation function like\n",
    "# 1 - Sigmoid\n",
    "# 2 - Tanh\n",
    "# 3 - ReLU\n",
    "# 4 - Leaky ReLU\n",
    "# 5 - Maxout\n",
    "# 6 - ELU\n",
    "\n",
    "# Conclusion, not optimal and need to fix initialization because \n",
    "# there are too many extermes in the data, as shown by 2 graphs above\n",
    "\n",
    "# Initlization fixed , less white "
   ]
  },
  {
   "cell_type": "code",
   "execution_count": null,
   "metadata": {},
   "outputs": [],
   "source": [
    "\n"
   ]
  }
 ],
 "metadata": {
  "kernelspec": {
   "display_name": "Python 3.9.12 ('base')",
   "language": "python",
   "name": "python3"
  },
  "language_info": {
   "codemirror_mode": {
    "name": "ipython",
    "version": 3
   },
   "file_extension": ".py",
   "mimetype": "text/x-python",
   "name": "python",
   "nbconvert_exporter": "python",
   "pygments_lexer": "ipython3",
   "version": "3.9.12"
  },
  "orig_nbformat": 4,
  "vscode": {
   "interpreter": {
    "hash": "bece0eb1fc0b6cc6c86bdf947b1b52af14eb8ddab5100f6d9dacc268b49a9540"
   }
  }
 },
 "nbformat": 4,
 "nbformat_minor": 2
}
