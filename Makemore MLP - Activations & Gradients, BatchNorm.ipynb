{
 "cells": [
  {
   "cell_type": "code",
   "execution_count": 1,
   "metadata": {},
   "outputs": [],
   "source": [
    "import torch\n",
    "import torch.nn.functional as F \n",
    "import matplotlib.pyplot as plt # For making figures\n",
    "%matplotlib inline"
   ]
  },
  {
   "cell_type": "code",
   "execution_count": 4,
   "metadata": {},
   "outputs": [
    {
     "data": {
      "text/plain": [
       "['emma', 'olivia', 'ava', 'isabella', 'sophia', 'charlotte', 'mia', 'amelia']"
      ]
     },
     "execution_count": 4,
     "metadata": {},
     "output_type": "execute_result"
    }
   ],
   "source": [
    "# read in all the words\n",
    "words = open('names.txt','r').read().splitlines()\n",
    "words[:8]"
   ]
  },
  {
   "cell_type": "code",
   "execution_count": 5,
   "metadata": {},
   "outputs": [
    {
     "data": {
      "text/plain": [
       "32033"
      ]
     },
     "execution_count": 5,
     "metadata": {},
     "output_type": "execute_result"
    }
   ],
   "source": [
    "len(words)"
   ]
  },
  {
   "cell_type": "code",
   "execution_count": 7,
   "metadata": {},
   "outputs": [
    {
     "name": "stdout",
     "output_type": "stream",
     "text": [
      "{1: 'a', 2: 'b', 3: 'c', 4: 'd', 5: 'e', 6: 'f', 7: 'g', 8: 'h', 9: 'i', 10: 'j', 11: 'k', 12: 'l', 13: 'm', 14: 'n', 15: 'o', 16: 'p', 17: 'q', 18: 'r', 19: 's', 20: 't', 21: 'u', 22: 'v', 23: 'w', 24: 'x', 25: 'y', 26: 'z', 0: '.'}\n",
      "27\n"
     ]
    }
   ],
   "source": [
    "# Build the vocabulary of characters and mappings to/from integers\n",
    "chars = sorted(list(set(''.join(words))))\n",
    "stoi = {s: i + 1 for i,s in enumerate(chars)}\n",
    "stoi['.'] = 0\n",
    "itos = {i:s for s,i in stoi.items()}\n",
    "vocab_size = len(itos)\n",
    "print(itos)\n",
    "print(vocab_size)"
   ]
  },
  {
   "cell_type": "code",
   "execution_count": 153,
   "metadata": {},
   "outputs": [
    {
     "name": "stdout",
     "output_type": "stream",
     "text": [
      "torch.Size([182580, 3]) torch.Size([182580])\n",
      "torch.Size([22740, 3]) torch.Size([22740])\n",
      "torch.Size([205320, 3]) torch.Size([205320])\n"
     ]
    }
   ],
   "source": [
    "#Build the dataset: Train, Dev, and Test\n",
    "block_size = 3 #context length: How many characters needed to predict the next\n",
    "\n",
    "def build_dataset(words):\n",
    "    X, Y = [], []\n",
    "\n",
    "    for w in words:\n",
    "        context = [0] * block_size\n",
    "        for ch in w + '.':\n",
    "            ix = stoi[ch]\n",
    "            X.append(context)\n",
    "            Y.append(ix)\n",
    "            context = context[1:] + [ix] #crop and append\n",
    "\n",
    "    X = torch.tensor(X)\n",
    "    Y = torch.tensor(Y)\n",
    "    print(X.shape, Y.shape)\n",
    "    return X, Y\n",
    "\n",
    "import random\n",
    "random.seed(42)\n",
    "random.shuffle(words)\n",
    "n1 = int(0.8 * len(words))\n",
    "n2 = int(0.9 * len(words))\n",
    "\n",
    "Xtr, Ytr = build_dataset(words[:n1]) #80%\n",
    "Xdev, Ydev = build_dataset(words[n1:n2]) #10%\n",
    "Xte, Yte = build_dataset(words[:n2]) #Last 10%\n"
   ]
  },
  {
   "cell_type": "code",
   "execution_count": 154,
   "metadata": {},
   "outputs": [
    {
     "data": {
      "text/plain": [
       "30"
      ]
     },
     "execution_count": 154,
     "metadata": {},
     "output_type": "execute_result"
    }
   ],
   "source": [
    "n_embd * block_size"
   ]
  },
  {
   "cell_type": "code",
   "execution_count": 155,
   "metadata": {},
   "outputs": [
    {
     "name": "stdout",
     "output_type": "stream",
     "text": [
      "12297\n"
     ]
    }
   ],
   "source": [
    "#MLP revisited, no more magic numbers for the model\n",
    "n_embd = 10 #The dimensionality of the character embedding vector\n",
    "n_hidden = 200 #The Number of neurons in the hidden layer of the MLP\n",
    "\n",
    "g = torch.Generator().manual_seed(2147483647)\n",
    "C = torch.randn((vocab_size, n_embd), generator=g)\n",
    "W1 = torch.randn((n_embd * block_size, n_hidden), generator=g) * ((5/3) / ((n_embd * block_size) ** 0.5))\n",
    "# Gain / Fan in = 5/3 for Tanh divided by square root of fan in,\n",
    "# which is n_embd * block_size\n",
    "# More from https://pytorch.org/docs/stable/nn.init.html\n",
    "# b1 = torch.randn(n_hidden, generator=g) * 0.01 \n",
    "W2 = torch.randn((n_hidden, vocab_size), generator=g) * 0.01 \n",
    "# Never use a 0 for the weights\n",
    "b2 = torch.randn(vocab_size, generator=g) * 0 \n",
    "\n",
    "bngain = torch.ones((1, n_hidden))\n",
    "bnbias = torch.zeros((1, n_hidden))\n",
    "\n",
    "# Created to track the running values, not for gradient optomization\n",
    "bnmean_running = torch.zeros((1, n_hidden))\n",
    "bnstd_running = torch.ones((1, n_hidden))\n",
    "\n",
    "parameters = [C,W1,b1,W2,b2,bngain,bnbias]\n",
    "print(sum(p.nelement() for p in parameters)) #number of parameters in total\n",
    "for p in parameters:\n",
    "    p.requires_grad = True\n"
   ]
  },
  {
   "cell_type": "code",
   "execution_count": 156,
   "metadata": {},
   "outputs": [
    {
     "name": "stdout",
     "output_type": "stream",
     "text": [
      "tensor(-0.0074) tensor(0.9980)\n",
      "tensor(0.0019) tensor(1.0065)\n"
     ]
    },
    {
     "data": {
      "text/plain": [
       "(array([2.23283295e-05, 0.00000000e+00, 0.00000000e+00, 0.00000000e+00,\n",
       "        2.23283295e-05, 4.46566590e-05, 0.00000000e+00, 0.00000000e+00,\n",
       "        2.00954966e-04, 1.56298307e-04, 4.24238261e-04, 9.82446499e-04,\n",
       "        1.80859469e-03, 3.14829446e-03, 5.51509739e-03, 9.37789840e-03,\n",
       "        1.59870839e-02, 2.62134589e-02, 3.86726667e-02, 6.29435609e-02,\n",
       "        9.18364193e-02, 1.31335234e-01, 1.81328364e-01, 2.35630861e-01,\n",
       "        2.89978016e-01, 3.43186425e-01, 3.83533716e-01, 4.05594106e-01,\n",
       "        4.02356498e-01, 3.82127031e-01, 3.41869053e-01, 2.93528220e-01,\n",
       "        2.36144413e-01, 1.79207173e-01, 1.35800900e-01, 9.42925356e-02,\n",
       "        6.41046341e-02, 4.22675278e-02, 2.68163238e-02, 1.75277387e-02,\n",
       "        9.71282334e-03, 4.73360586e-03, 3.52787606e-03, 1.67462471e-03,\n",
       "        1.18340146e-03, 3.34924943e-04, 3.12596613e-04, 8.93133181e-05,\n",
       "        8.93133181e-05, 2.23283295e-05]),\n",
       " array([-6.27362967e+00, -6.04969890e+00, -5.82576813e+00, -5.60183736e+00,\n",
       "        -5.37790659e+00, -5.15397582e+00, -4.93004505e+00, -4.70611428e+00,\n",
       "        -4.48218351e+00, -4.25825274e+00, -4.03432198e+00, -3.81039121e+00,\n",
       "        -3.58646044e+00, -3.36252967e+00, -3.13859890e+00, -2.91466813e+00,\n",
       "        -2.69073736e+00, -2.46680659e+00, -2.24287582e+00, -2.01894506e+00,\n",
       "        -1.79501429e+00, -1.57108352e+00, -1.34715275e+00, -1.12322198e+00,\n",
       "        -8.99291210e-01, -6.75360441e-01, -4.51429672e-01, -2.27498903e-01,\n",
       "        -3.56813431e-03,  2.20362635e-01,  4.44293404e-01,  6.68224173e-01,\n",
       "         8.92154942e-01,  1.11608571e+00,  1.34001648e+00,  1.56394725e+00,\n",
       "         1.78787802e+00,  2.01180879e+00,  2.23573956e+00,  2.45967032e+00,\n",
       "         2.68360109e+00,  2.90753186e+00,  3.13146263e+00,  3.35539340e+00,\n",
       "         3.57932417e+00,  3.80325494e+00,  4.02718571e+00,  4.25111648e+00,\n",
       "         4.47504725e+00,  4.69897801e+00,  4.92290878e+00]),\n",
       " <BarContainer object of 50 artists>)"
      ]
     },
     "execution_count": 156,
     "metadata": {},
     "output_type": "execute_result"
    },
    {
     "data": {
      "image/png": "[encoded data removed]",
      "text/plain": [
       "<Figure size 1440x360 with 2 Axes>"
      ]
     },
     "metadata": {
      "needs_background": "light"
     },
     "output_type": "display_data"
    }
   ],
   "source": [
    "### Example for finding the initial scales for optimizing, \n",
    "# essentially the 0.1 and 0.2 in code above\n",
    "x = torch.randn(1000,30)\n",
    "w = torch.randn(30, 200) / 30 ** 0.5 ##The fan_in, important for initilization\n",
    "# Recall , this is for TanH only, for example Relu is (2/n) ** 0.5\n",
    "#Square root of the connecting dimension, \n",
    "# goal is to get standard deviation of 1\n",
    "y = x @ w\n",
    "print(x.mean(),x.std()) \n",
    "print(y.mean(),y.std())\n",
    "plt.figure(figsize=(20,5))\n",
    "plt.subplot(121)\n",
    "plt.hist(x.view(-1).tolist(),50, density=True)\n",
    "plt.subplot(122)\n",
    "plt.hist(y.view(-1).tolist(),50, density=True)"
   ]
  },
  {
   "cell_type": "code",
   "execution_count": 160,
   "metadata": {},
   "outputs": [
    {
     "ename": "TypeError",
     "evalue": "unsupported operand type(s) for *: 'float' and 'NoneType'",
     "output_type": "error",
     "traceback": [
      "\u001b[0;31m---------------------------------------------------------------------------\u001b[0m",
      "\u001b[0;31mTypeError\u001b[0m                                 Traceback (most recent call last)",
      "\u001b[1;32m/Users/jesse_leal/Desktop/Projects/Machine Learning Projects/Makemore MLP - Activations & Gradients, BatchNorm.ipynb Cell 9\u001b[0m in \u001b[0;36m<cell line: 6>\u001b[0;34m()\u001b[0m\n\u001b[1;32m     <a href='vscode-notebook-cell:/Users/jesse_leal/Desktop/Projects/Machine%20Learning%20Projects/Makemore%20MLP%20-%20Activations%20%26%20Gradients%2C%20BatchNorm.ipynb#W6sZmlsZQ%3D%3D?line=40'>41</a>\u001b[0m lr \u001b[39m=\u001b[39m \u001b[39m0.1\u001b[39m \u001b[39mif\u001b[39;00m i \u001b[39m<\u001b[39m \u001b[39m100000\u001b[39m \u001b[39melse\u001b[39;00m \u001b[39m0.01\u001b[39m \u001b[39m# Step learning rate decat\u001b[39;00m\n\u001b[1;32m     <a href='vscode-notebook-cell:/Users/jesse_leal/Desktop/Projects/Machine%20Learning%20Projects/Makemore%20MLP%20-%20Activations%20%26%20Gradients%2C%20BatchNorm.ipynb#W6sZmlsZQ%3D%3D?line=41'>42</a>\u001b[0m \u001b[39mfor\u001b[39;00m p \u001b[39min\u001b[39;00m parameters:\n\u001b[0;32m---> <a href='vscode-notebook-cell:/Users/jesse_leal/Desktop/Projects/Machine%20Learning%20Projects/Makemore%20MLP%20-%20Activations%20%26%20Gradients%2C%20BatchNorm.ipynb#W6sZmlsZQ%3D%3D?line=42'>43</a>\u001b[0m     p\u001b[39m.\u001b[39mdata \u001b[39m+\u001b[39m\u001b[39m=\u001b[39m \u001b[39m-\u001b[39;49mlr \u001b[39m*\u001b[39;49m p\u001b[39m.\u001b[39;49mgrad\n\u001b[1;32m     <a href='vscode-notebook-cell:/Users/jesse_leal/Desktop/Projects/Machine%20Learning%20Projects/Makemore%20MLP%20-%20Activations%20%26%20Gradients%2C%20BatchNorm.ipynb#W6sZmlsZQ%3D%3D?line=44'>45</a>\u001b[0m \u001b[39m#Track Stats\u001b[39;00m\n\u001b[1;32m     <a href='vscode-notebook-cell:/Users/jesse_leal/Desktop/Projects/Machine%20Learning%20Projects/Makemore%20MLP%20-%20Activations%20%26%20Gradients%2C%20BatchNorm.ipynb#W6sZmlsZQ%3D%3D?line=45'>46</a>\u001b[0m \u001b[39mif\u001b[39;00m i \u001b[39m%\u001b[39m \u001b[39m10000\u001b[39m \u001b[39m==\u001b[39m \u001b[39m0\u001b[39m: \u001b[39m#  Print every once in a while\u001b[39;00m\n",
      "\u001b[0;31mTypeError\u001b[0m: unsupported operand type(s) for *: 'float' and 'NoneType'"
     ]
    }
   ],
   "source": [
    "#Optimization\n",
    "max_steps = 200000\n",
    "batch_size = 32\n",
    "lossi = []\n",
    "\n",
    "for i in range(max_steps):\n",
    "    \n",
    "    #minibatch construct\n",
    "    ix = torch.randint(0, Xtr.shape[0], (batch_size,), generator=g)\n",
    "    Xb, Yb = Xtr[ix], Ytr[ix] #batch X,Y\n",
    "\n",
    "    #Forward pass\n",
    "    emb = C[Xb] #Embed characets into the vectors\n",
    "    embcat = emb.view(emb.shape[0], -1) #Concatenate the vectors        \n",
    "    hpreact = embcat @ W1 #+ b1 # hidden layer pre-activation, \n",
    "    # standardized the gaussian, insight from Paper\n",
    "    # Batch norm layer\n",
    "    #---------------------------------------------------\n",
    "    bnmeani = hpreact.mean(0, keepdim=True)\n",
    "    bnstdi = hpreact.std(0, keepdim=True)\n",
    "    hpreact = bngain * (hpreact - bnmeani) / bnstdi + bnbias\n",
    "\n",
    "    # After we calibrate the batch norm and have trackers\n",
    "    with torch.no_grad():\n",
    "        bnmean_running = 0.999 * bnmean_running + 0.001 * bnmeani\n",
    "        bnstd_running = 0.999 * bnstd_running + 0.001 * bnstdi\n",
    "\n",
    "    # Non-linearity\n",
    "    #---------------------------------------------------\n",
    "    h = torch.tanh(hpreact) # hidden layer\n",
    "    logits = h @ W2 + b2 # output layer\n",
    "    loss = F.cross_entropy(logits, Yb) #loss function\n",
    "\n",
    "    #Backward pass\n",
    "    for p in parameters:\n",
    "        p.grad = None\n",
    "    loss.backward()\n",
    "\n",
    "    #Update\n",
    "    lr = 0.1 if i < 100000 else 0.01 # Steep learning rate decay\n",
    "    for p in parameters:\n",
    "        p.data += -lr * p.grad\n",
    "\n",
    "    #Track Stats\n",
    "    if i % 10000 == 0: #  Print every once in a while\n",
    "        print(f'{i:7d}/{max_steps:7d}: {loss.item():.4f}')\n",
    "    lossi.append(loss.log10().item())\n",
    "\n"
   ]
  },
  {
   "cell_type": "markdown",
   "metadata": {},
   "source": [
    "    #Implement Batch Intilization because two problems\n",
    "    # 1 - Too small TanH does nothing\n",
    "    # 2 - Too large Tanh is saturated, look at image below\n",
    "    # now every Nueron will guassianed, but don't want it to be so \n",
    "    # at every  neuron, only at initialization \n",
    "    # So, we have to Scale And Gain, \n",
    "    # scaling by gain and offsetting by some bias\n"
   ]
  },
  {
   "cell_type": "code",
   "execution_count": 144,
   "metadata": {},
   "outputs": [
    {
     "data": {
      "text/plain": [
       "torch.Size([32, 200])"
      ]
     },
     "execution_count": 144,
     "metadata": {},
     "output_type": "execute_result"
    }
   ],
   "source": [
    "hpreact.shape\n",
    "#32,200 and we want these to roughly gaussian"
   ]
  },
  {
   "cell_type": "code",
   "execution_count": 145,
   "metadata": {},
   "outputs": [
    {
     "data": {
      "text/plain": [
       "torch.Size([1, 200])"
      ]
     },
     "execution_count": 145,
     "metadata": {},
     "output_type": "execute_result"
    }
   ],
   "source": [
    "hpreact.mean(0, keepdim=True).shape\n"
   ]
  },
  {
   "cell_type": "code",
   "execution_count": 146,
   "metadata": {},
   "outputs": [
    {
     "data": {
      "text/plain": [
       "[<matplotlib.lines.Line2D at 0x7fd29576ef10>]"
      ]
     },
     "execution_count": 146,
     "metadata": {},
     "output_type": "execute_result"
    },
    {
     "data": {
      "image/png": "[encoded data removed]",
      "text/plain": [
       "<Figure size 432x288 with 1 Axes>"
      ]
     },
     "metadata": {
      "needs_background": "light"
     },
     "output_type": "display_data"
    }
   ],
   "source": [
    "plt.plot(lossi)\n",
    "# no longer had hocket stick look, weights have been shrunk down \n",
    "# so we can see if the loss is on the right path"
   ]
  },
  {
   "cell_type": "code",
   "execution_count": 147,
   "metadata": {},
   "outputs": [
    {
     "data": {
      "image/png": "[encoded data removed]",
      "text/plain": [
       "<Figure size 432x288 with 1 Axes>"
      ]
     },
     "metadata": {
      "needs_background": "light"
     },
     "output_type": "display_data"
    }
   ],
   "source": [
    "plt.hist(hpreact.view(-1).tolist(),50);\n",
    "#Preactivation range from (-30,30) to (-4,4)\n",
    "# After intilization fix"
   ]
  },
  {
   "cell_type": "code",
   "execution_count": 148,
   "metadata": {},
   "outputs": [
    {
     "data": {
      "image/png": "[encoded data removed]",
      "text/plain": [
       "<Figure size 432x288 with 1 Axes>"
      ]
     },
     "metadata": {
      "needs_background": "light"
     },
     "output_type": "display_data"
    }
   ],
   "source": [
    "plt.hist(h.view(-1).tolist(),50);"
   ]
  },
  {
   "cell_type": "code",
   "execution_count": 151,
   "metadata": {},
   "outputs": [
    {
     "name": "stdout",
     "output_type": "stream",
     "text": [
      "train 2.062958240509033\n",
      "val 2.117814302444458\n"
     ]
    }
   ],
   "source": [
    "@torch.no_grad() #This decorator disables gradient tracking\n",
    "def split_loss(split):\n",
    "    x,y = {\n",
    "        'train': (Xtr, Ytr),\n",
    "        'val': (Xdev, Ydev),\n",
    "        'test': (Xte, Yte),\n",
    "    }[split]\n",
    "    emb = C[x] # (N, block_size, n_embd)\n",
    "    embcat = emb.view(emb.shape[0], -1) #Concatenate into (N,block_size * n_embd)\n",
    "    hpreact = embcat @ W1 + b1 # hidden layer pre-activation, \n",
    "    # hpreact = bngain * (hpreact - hpreact.mean(0, keepdim=True)) / hpreact.std(0, keepdim=True) + bnbias\n",
    "    # instead of doing it dynamically, as in above, we do using the function from above\n",
    "    bnmeani = hpreact.mean(0, keepdim=True)\n",
    "    bnstdi = hpreact.std(0, keepdim=True)\n",
    "    hpreact = bngain * (hpreact - bnmean_running) / bnstd_running + bnbias\n",
    "    # Advatange is that we can do single examples since means and stds are fixed \n",
    "    # Padding out and adding in entropy(regularizer), like augmenting to reduce overfit\n",
    "\n",
    "\n",
    "    h = torch.tanh(hpreact) # (N, vocab_size)\n",
    "    logits = h @ W2 + b2 # (N, vocab_size)\n",
    "    loss = F.cross_entropy(logits, y)\n",
    "    print(split, loss.item())\n",
    "\n",
    "split_loss('train')\n",
    "split_loss('val')\n",
    "\n",
    "# Improvements to loss after changes baised on notes from below \n",
    "# we had smaller weights and biases for 1st neuron\n",
    "# Reason fro change was tanh layer was too saturated, \n",
    "# shown previously by lot of white space in figure below\n",
    "\n"
   ]
  },
  {
   "cell_type": "raw",
   "metadata": {},
   "source": [
    "# Results before Batch Optimization\n",
    "train 2.020562171936035\n",
    "val 2.105647087097168\n",
    "# After\n",
    "train 2.046449661254883\n",
    "val 2.105436086654663\n",
    "# Results After we calibrate Batch Norm\n",
    "train 2.062958240509033\n",
    "val 2.117814302444458\n"
   ]
  },
  {
   "cell_type": "code",
   "execution_count": 152,
   "metadata": {},
   "outputs": [
    {
     "data": {
      "text/plain": [
       "<matplotlib.image.AxesImage at 0x7fd28928ad90>"
      ]
     },
     "execution_count": 152,
     "metadata": {},
     "output_type": "execute_result"
    },
    {
     "data": {
      "image/png": "[encoded data removed]",
      "text/plain": [
       "<Figure size 1440x720 with 1 Axes>"
      ]
     },
     "metadata": {
      "needs_background": "light"
     },
     "output_type": "display_data"
    }
   ],
   "source": [
    "plt.figure(figsize=(20,10))\n",
    "plt.imshow(h.abs() > 0.99, cmap='gray',interpolation='nearest') #Boolean tensor\n",
    "#Shows how often in a flat region, \n",
    "# white if true and black if not\n",
    "# from 30 examples with 200 neurons\n",
    "\n",
    "#Lot of white space in first run, so the tanh function was very active\n",
    "# if mainly black spots, dead neuron\n",
    "\n",
    "# Same methodoloy for other activation function like\n",
    "# 1 - Sigmoid\n",
    "# 2 - Tanh\n",
    "# 3 - ReLU\n",
    "# 4 - Leaky ReLU\n",
    "# 5 - Maxout\n",
    "# 6 - ELU\n",
    "\n",
    "# Conclusion, not optimal and need to fix initialization because \n",
    "# there are too many extermes in the data, as shown by 2 graphs above\n",
    "\n",
    "# Initlization fixed , less white "
   ]
  },
  {
   "cell_type": "code",
   "execution_count": null,
   "metadata": {},
   "outputs": [],
   "source": [
    "\n"
   ]
  }
 ],
 "metadata": {
  "kernelspec": {
   "display_name": "Python 3.9.12 ('base')",
   "language": "python",
   "name": "python3"
  },
  "language_info": {
   "codemirror_mode": {
    "name": "ipython",
    "version": 3
   },
   "file_extension": ".py",
   "mimetype": "text/x-python",
   "name": "python",
   "nbconvert_exporter": "python",
   "pygments_lexer": "ipython3",
   "version": "3.9.12"
  },
  "orig_nbformat": 4,
  "vscode": {
   "interpreter": {
    "hash": "bece0eb1fc0b6cc6c86bdf947b1b52af14eb8ddab5100f6d9dacc268b49a9540"
   }
  }
 },
 "nbformat": 4,
 "nbformat_minor": 2
}
